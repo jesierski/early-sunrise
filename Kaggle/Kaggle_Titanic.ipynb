{
 "cells": [
  {
   "cell_type": "code",
   "execution_count": 65,
   "metadata": {},
   "outputs": [],
   "source": [
    "import pandas as pd\n",
    "import matplotlib.pyplot as plt\n",
    "import seaborn as sns\n",
    "from sklearn.preprocessing import LabelEncoder, OneHotEncoder"
   ]
  },
  {
   "cell_type": "code",
   "execution_count": 62,
   "metadata": {},
   "outputs": [
    {
     "data": {
      "text/html": [
       "<div>\n",
       "<style scoped>\n",
       "    .dataframe tbody tr th:only-of-type {\n",
       "        vertical-align: middle;\n",
       "    }\n",
       "\n",
       "    .dataframe tbody tr th {\n",
       "        vertical-align: top;\n",
       "    }\n",
       "\n",
       "    .dataframe thead th {\n",
       "        text-align: right;\n",
       "    }\n",
       "</style>\n",
       "<table border=\"1\" class=\"dataframe\">\n",
       "  <thead>\n",
       "    <tr style=\"text-align: right;\">\n",
       "      <th></th>\n",
       "      <th>Survived</th>\n",
       "      <th>Pclass</th>\n",
       "      <th>Name</th>\n",
       "      <th>Sex</th>\n",
       "      <th>Age</th>\n",
       "      <th>SibSp</th>\n",
       "      <th>Parch</th>\n",
       "      <th>Ticket</th>\n",
       "      <th>Fare</th>\n",
       "      <th>Cabin</th>\n",
       "      <th>Embarked</th>\n",
       "    </tr>\n",
       "    <tr>\n",
       "      <th>PassengerId</th>\n",
       "      <th></th>\n",
       "      <th></th>\n",
       "      <th></th>\n",
       "      <th></th>\n",
       "      <th></th>\n",
       "      <th></th>\n",
       "      <th></th>\n",
       "      <th></th>\n",
       "      <th></th>\n",
       "      <th></th>\n",
       "      <th></th>\n",
       "    </tr>\n",
       "  </thead>\n",
       "  <tbody>\n",
       "    <tr>\n",
       "      <th>1</th>\n",
       "      <td>0</td>\n",
       "      <td>3</td>\n",
       "      <td>Braund, Mr. Owen Harris</td>\n",
       "      <td>male</td>\n",
       "      <td>22.0</td>\n",
       "      <td>1</td>\n",
       "      <td>0</td>\n",
       "      <td>A/5 21171</td>\n",
       "      <td>7.2500</td>\n",
       "      <td>NaN</td>\n",
       "      <td>S</td>\n",
       "    </tr>\n",
       "    <tr>\n",
       "      <th>2</th>\n",
       "      <td>1</td>\n",
       "      <td>1</td>\n",
       "      <td>Cumings, Mrs. John Bradley (Florence Briggs Th...</td>\n",
       "      <td>female</td>\n",
       "      <td>38.0</td>\n",
       "      <td>1</td>\n",
       "      <td>0</td>\n",
       "      <td>PC 17599</td>\n",
       "      <td>71.2833</td>\n",
       "      <td>C85</td>\n",
       "      <td>C</td>\n",
       "    </tr>\n",
       "    <tr>\n",
       "      <th>3</th>\n",
       "      <td>1</td>\n",
       "      <td>3</td>\n",
       "      <td>Heikkinen, Miss. Laina</td>\n",
       "      <td>female</td>\n",
       "      <td>26.0</td>\n",
       "      <td>0</td>\n",
       "      <td>0</td>\n",
       "      <td>STON/O2. 3101282</td>\n",
       "      <td>7.9250</td>\n",
       "      <td>NaN</td>\n",
       "      <td>S</td>\n",
       "    </tr>\n",
       "    <tr>\n",
       "      <th>4</th>\n",
       "      <td>1</td>\n",
       "      <td>1</td>\n",
       "      <td>Futrelle, Mrs. Jacques Heath (Lily May Peel)</td>\n",
       "      <td>female</td>\n",
       "      <td>35.0</td>\n",
       "      <td>1</td>\n",
       "      <td>0</td>\n",
       "      <td>113803</td>\n",
       "      <td>53.1000</td>\n",
       "      <td>C123</td>\n",
       "      <td>S</td>\n",
       "    </tr>\n",
       "    <tr>\n",
       "      <th>5</th>\n",
       "      <td>0</td>\n",
       "      <td>3</td>\n",
       "      <td>Allen, Mr. William Henry</td>\n",
       "      <td>male</td>\n",
       "      <td>35.0</td>\n",
       "      <td>0</td>\n",
       "      <td>0</td>\n",
       "      <td>373450</td>\n",
       "      <td>8.0500</td>\n",
       "      <td>NaN</td>\n",
       "      <td>S</td>\n",
       "    </tr>\n",
       "  </tbody>\n",
       "</table>\n",
       "</div>"
      ],
      "text/plain": [
       "             Survived  Pclass  \\\n",
       "PassengerId                     \n",
       "1                   0       3   \n",
       "2                   1       1   \n",
       "3                   1       3   \n",
       "4                   1       1   \n",
       "5                   0       3   \n",
       "\n",
       "                                                          Name     Sex   Age  \\\n",
       "PassengerId                                                                    \n",
       "1                                      Braund, Mr. Owen Harris    male  22.0   \n",
       "2            Cumings, Mrs. John Bradley (Florence Briggs Th...  female  38.0   \n",
       "3                                       Heikkinen, Miss. Laina  female  26.0   \n",
       "4                 Futrelle, Mrs. Jacques Heath (Lily May Peel)  female  35.0   \n",
       "5                                     Allen, Mr. William Henry    male  35.0   \n",
       "\n",
       "             SibSp  Parch            Ticket     Fare Cabin Embarked  \n",
       "PassengerId                                                          \n",
       "1                1      0         A/5 21171   7.2500   NaN        S  \n",
       "2                1      0          PC 17599  71.2833   C85        C  \n",
       "3                0      0  STON/O2. 3101282   7.9250   NaN        S  \n",
       "4                1      0            113803  53.1000  C123        S  \n",
       "5                0      0            373450   8.0500   NaN        S  "
      ]
     },
     "execution_count": 62,
     "metadata": {},
     "output_type": "execute_result"
    }
   ],
   "source": [
    "train = pd.read_csv('data/titanic/train.csv',  index_col=0)\n",
    "train.head()"
   ]
  },
  {
   "cell_type": "code",
   "execution_count": 63,
   "metadata": {},
   "outputs": [
    {
     "data": {
      "text/plain": [
       "[549, 342]"
      ]
     },
     "execution_count": 63,
     "metadata": {},
     "output_type": "execute_result"
    }
   ],
   "source": [
    "survival = [sum(train['Survived'] == 0), sum(train['Survived'] == 1)]\n",
    "survival"
   ]
  },
  {
   "cell_type": "code",
   "execution_count": 5,
   "metadata": {},
   "outputs": [
    {
     "data": {
      "text/plain": [
       "<BarContainer object of 2 artists>"
      ]
     },
     "execution_count": 5,
     "metadata": {},
     "output_type": "execute_result"
    },
    {
     "data": {
      "image/png": "[encoded data removed]",
      "text/plain": [
       "<Figure size 432x288 with 1 Axes>"
      ]
     },
     "metadata": {
      "needs_background": "light"
     },
     "output_type": "display_data"
    }
   ],
   "source": [
    "plt.bar(['Died', 'Survived'], survival)"
   ]
  },
  {
   "cell_type": "code",
   "execution_count": 6,
   "metadata": {},
   "outputs": [
    {
     "data": {
      "text/plain": [
       "<matplotlib.axes._subplots.AxesSubplot at 0x7fef99d69310>"
      ]
     },
     "execution_count": 6,
     "metadata": {},
     "output_type": "execute_result"
    },
    {
     "data": {
      "image/png": "[encoded data removed]",
      "text/plain": [
       "<Figure size 432x288 with 1 Axes>"
      ]
     },
     "metadata": {
      "needs_background": "light"
     },
     "output_type": "display_data"
    }
   ],
   "source": [
    "train.groupby('Survived').size().plot.bar()"
   ]
  },
  {
   "cell_type": "code",
   "execution_count": 9,
   "metadata": {},
   "outputs": [
    {
     "ename": "NameError",
     "evalue": "name 'df_tryDM' is not defined",
     "output_type": "error",
     "traceback": [
      "\u001b[0;31m---------------------------------------------------------------------------\u001b[0m",
      "\u001b[0;31mNameError\u001b[0m                                 Traceback (most recent call last)",
      "\u001b[0;32m<ipython-input-9-a29ac9799a86>\u001b[0m in \u001b[0;36m<module>\u001b[0;34m\u001b[0m\n\u001b[1;32m      1\u001b[0m data = [\n\u001b[0;32m----> 2\u001b[0;31m     \u001b[0;34m[\u001b[0m\u001b[0mdf_tryDM\u001b[0m\u001b[0;34m.\u001b[0m\u001b[0mshape\u001b[0m\u001b[0;34m[\u001b[0m\u001b[0;36m0\u001b[0m\u001b[0;34m]\u001b[0m\u001b[0;34m,\u001b[0m \u001b[0mdf_tryDF\u001b[0m\u001b[0;34m.\u001b[0m\u001b[0mshape\u001b[0m\u001b[0;34m[\u001b[0m\u001b[0;36m0\u001b[0m\u001b[0;34m]\u001b[0m\u001b[0;34m]\u001b[0m\u001b[0;34m,\u001b[0m\u001b[0;34m\u001b[0m\u001b[0;34m\u001b[0m\u001b[0m\n\u001b[0m\u001b[1;32m      3\u001b[0m     \u001b[0;34m[\u001b[0m\u001b[0mdf_trySM\u001b[0m\u001b[0;34m.\u001b[0m\u001b[0mshape\u001b[0m\u001b[0;34m[\u001b[0m\u001b[0;36m0\u001b[0m\u001b[0;34m]\u001b[0m\u001b[0;34m,\u001b[0m \u001b[0mdf_trySF\u001b[0m\u001b[0;34m.\u001b[0m\u001b[0mshape\u001b[0m\u001b[0;34m[\u001b[0m\u001b[0;36m0\u001b[0m\u001b[0;34m]\u001b[0m\u001b[0;34m]\u001b[0m\u001b[0;34m\u001b[0m\u001b[0;34m\u001b[0m\u001b[0m\n\u001b[1;32m      4\u001b[0m     ]\n\u001b[1;32m      5\u001b[0m \u001b[0mindex\u001b[0m \u001b[0;34m=\u001b[0m \u001b[0;34m[\u001b[0m\u001b[0;34m'male'\u001b[0m\u001b[0;34m,\u001b[0m \u001b[0;34m'female'\u001b[0m\u001b[0;34m]\u001b[0m\u001b[0;34m\u001b[0m\u001b[0;34m\u001b[0m\u001b[0m\n",
      "\u001b[0;31mNameError\u001b[0m: name 'df_tryDM' is not defined"
     ]
    }
   ],
   "source": [
    "data = [\n",
    "    [df_tryDM.shape[0], df_tryDF.shape[0]], \n",
    "    [df_trySM.shape[0], df_trySF.shape[0]]\n",
    "    ]\n",
    "index = ['male', 'female']\n",
    "columns = ['Survived', 'Died']\n",
    "\n",
    "df_try = pd.DataFrame[data, index : index, columns : columns]"
   ]
  },
  {
   "cell_type": "code",
   "execution_count": 11,
   "metadata": {},
   "outputs": [
    {
     "data": {
      "text/plain": [
       "109"
      ]
     },
     "execution_count": 11,
     "metadata": {},
     "output_type": "execute_result"
    }
   ],
   "source": [
    "df_tryDM = train.loc[(train['Survived'] == 1) & (train['Sex'] == 'male')]\n",
    "df_tryDM.shape[0]"
   ]
  },
  {
   "cell_type": "code",
   "execution_count": 12,
   "metadata": {},
   "outputs": [
    {
     "data": {
      "text/plain": [
       "233"
      ]
     },
     "execution_count": 12,
     "metadata": {},
     "output_type": "execute_result"
    }
   ],
   "source": [
    "df_tryDF = train.loc[(train['Survived'] == 1) & (train['Sex'] == 'female')]\n",
    "df_tryDF.shape[0]"
   ]
  },
  {
   "cell_type": "code",
   "execution_count": 13,
   "metadata": {},
   "outputs": [
    {
     "data": {
      "text/plain": [
       "468"
      ]
     },
     "execution_count": 13,
     "metadata": {},
     "output_type": "execute_result"
    }
   ],
   "source": [
    "df_trySM = train.loc[(train['Survived'] == 0) & (train['Sex'] == 'male')]\n",
    "df_trySM.shape[0]"
   ]
  },
  {
   "cell_type": "code",
   "execution_count": 14,
   "metadata": {},
   "outputs": [
    {
     "data": {
      "text/plain": [
       "81"
      ]
     },
     "execution_count": 14,
     "metadata": {},
     "output_type": "execute_result"
    }
   ],
   "source": [
    "df_trySF = train.loc[(train['Survived'] == 0) & (train['Sex'] == 'female')]\n",
    "df_trySF.shape[0]"
   ]
  },
  {
   "cell_type": "code",
   "execution_count": 16,
   "metadata": {
    "scrolled": true
   },
   "outputs": [
    {
     "data": {
      "text/plain": [
       "[[109, 233], [468, 81]]"
      ]
     },
     "execution_count": 16,
     "metadata": {},
     "output_type": "execute_result"
    }
   ],
   "source": [
    "data = [\n",
    "    [df_tryDM.shape[0], df_tryDF.shape[0]], \n",
    "    [df_trySM.shape[0], df_trySF.shape[0]]\n",
    "    ]\n",
    "data"
   ]
  },
  {
   "cell_type": "code",
   "execution_count": 17,
   "metadata": {},
   "outputs": [
    {
     "data": {
      "text/plain": [
       "['male', 'female']"
      ]
     },
     "execution_count": 17,
     "metadata": {},
     "output_type": "execute_result"
    }
   ],
   "source": [
    "index = ['male', 'female']\n",
    "index"
   ]
  },
  {
   "cell_type": "code",
   "execution_count": 18,
   "metadata": {},
   "outputs": [
    {
     "data": {
      "text/plain": [
       "['Survived', 'Died']"
      ]
     },
     "execution_count": 18,
     "metadata": {},
     "output_type": "execute_result"
    }
   ],
   "source": [
    "columns = ['Survived', 'Died']\n",
    "columns"
   ]
  },
  {
   "cell_type": "code",
   "execution_count": 19,
   "metadata": {},
   "outputs": [
    {
     "data": {
      "text/html": [
       "<div>\n",
       "<style scoped>\n",
       "    .dataframe tbody tr th:only-of-type {\n",
       "        vertical-align: middle;\n",
       "    }\n",
       "\n",
       "    .dataframe tbody tr th {\n",
       "        vertical-align: top;\n",
       "    }\n",
       "\n",
       "    .dataframe thead th {\n",
       "        text-align: right;\n",
       "    }\n",
       "</style>\n",
       "<table border=\"1\" class=\"dataframe\">\n",
       "  <thead>\n",
       "    <tr style=\"text-align: right;\">\n",
       "      <th></th>\n",
       "      <th>Survived</th>\n",
       "      <th>Died</th>\n",
       "    </tr>\n",
       "  </thead>\n",
       "  <tbody>\n",
       "    <tr>\n",
       "      <th>male</th>\n",
       "      <td>109</td>\n",
       "      <td>233</td>\n",
       "    </tr>\n",
       "    <tr>\n",
       "      <th>female</th>\n",
       "      <td>468</td>\n",
       "      <td>81</td>\n",
       "    </tr>\n",
       "  </tbody>\n",
       "</table>\n",
       "</div>"
      ],
      "text/plain": [
       "        Survived  Died\n",
       "male         109   233\n",
       "female       468    81"
      ]
     },
     "execution_count": 19,
     "metadata": {},
     "output_type": "execute_result"
    }
   ],
   "source": [
    "df_try = pd.DataFrame(data, index = index, columns = columns)\n",
    "df_try"
   ]
  },
  {
   "cell_type": "code",
   "execution_count": 20,
   "metadata": {},
   "outputs": [
    {
     "data": {
      "text/html": [
       "<div>\n",
       "<style scoped>\n",
       "    .dataframe tbody tr th:only-of-type {\n",
       "        vertical-align: middle;\n",
       "    }\n",
       "\n",
       "    .dataframe tbody tr th {\n",
       "        vertical-align: top;\n",
       "    }\n",
       "\n",
       "    .dataframe thead th {\n",
       "        text-align: right;\n",
       "    }\n",
       "</style>\n",
       "<table border=\"1\" class=\"dataframe\">\n",
       "  <thead>\n",
       "    <tr style=\"text-align: right;\">\n",
       "      <th></th>\n",
       "      <th>Survived</th>\n",
       "      <th>Died</th>\n",
       "    </tr>\n",
       "  </thead>\n",
       "  <tbody>\n",
       "    <tr>\n",
       "      <th>male</th>\n",
       "      <td>109</td>\n",
       "      <td>233</td>\n",
       "    </tr>\n",
       "    <tr>\n",
       "      <th>female</th>\n",
       "      <td>468</td>\n",
       "      <td>81</td>\n",
       "    </tr>\n",
       "  </tbody>\n",
       "</table>\n",
       "</div>"
      ],
      "text/plain": [
       "        Survived  Died\n",
       "male         109   233\n",
       "female       468    81"
      ]
     },
     "execution_count": 20,
     "metadata": {},
     "output_type": "execute_result"
    }
   ],
   "source": [
    "df = pd.DataFrame({columns[0]: [data[0][0],data[1][0]], columns[1]:[data[0][1],data[1][1]]})\n",
    "df.set_index(pd.Series(index))"
   ]
  },
  {
   "cell_type": "code",
   "execution_count": 21,
   "metadata": {},
   "outputs": [
    {
     "data": {
      "text/plain": [
       "<matplotlib.axes._subplots.AxesSubplot at 0x7fef99db90a0>"
      ]
     },
     "execution_count": 21,
     "metadata": {},
     "output_type": "execute_result"
    },
    {
     "data": {
      "image/png": "[encoded data removed]",
      "text/plain": [
       "<Figure size 432x288 with 1 Axes>"
      ]
     },
     "metadata": {
      "needs_background": "light"
     },
     "output_type": "display_data"
    }
   ],
   "source": [
    "train['Survived'].loc[train['Sex'] == 'female'].plot(kind='hist', alpha=0.6)\n",
    "train['Survived'].loc[train['Sex'] == 'male'].plot(kind='hist', alpha=0.6)"
   ]
  },
  {
   "cell_type": "code",
   "execution_count": 25,
   "metadata": {},
   "outputs": [
    {
     "data": {
      "text/plain": [
       "<matplotlib.axes._subplots.AxesSubplot at 0x7fef9b44d8e0>"
      ]
     },
     "execution_count": 25,
     "metadata": {},
     "output_type": "execute_result"
    },
    {
     "data": {
      "image/png": "[encoded data removed]",
      "text/plain": [
       "<Figure size 432x288 with 1 Axes>"
      ]
     },
     "metadata": {
      "needs_background": "light"
     },
     "output_type": "display_data"
    }
   ],
   "source": [
    "train['Age'].plot(kind='hist', alpha=0.6)\n",
    "train['Age'].loc[train['Survived'] == 1].plot(kind='hist', alpha=0.6)"
   ]
  },
  {
   "cell_type": "code",
   "execution_count": 34,
   "metadata": {},
   "outputs": [],
   "source": [
    "train['Age Bin CUT'] = pd.cut(train['Age'], 20)"
   ]
  },
  {
   "cell_type": "code",
   "execution_count": 37,
   "metadata": {},
   "outputs": [
    {
     "data": {
      "image/png": "[encoded data removed]",
      "text/plain": [
       "<Figure size 432x288 with 1 Axes>"
      ]
     },
     "metadata": {
      "needs_background": "light"
     },
     "output_type": "display_data"
    }
   ],
   "source": [
    "x = sns.countplot(x=train['Age Bin CUT'])\n",
    "x.set_xticklabels(x.get_xticklabels(), rotation=90)\n",
    "x = sns.countplot(x=train['Age Bin CUT'])\n",
    "x.set_xticklabels(x.get_xticklabels(), rotation=90)\n",
    "None"
   ]
  },
  {
   "cell_type": "markdown",
   "metadata": {},
   "source": [
    "One plot number of passengers of a certain age and number of survivors of a certain age"
   ]
  },
  {
   "cell_type": "code",
   "execution_count": 45,
   "metadata": {},
   "outputs": [
    {
     "data": {
      "text/plain": [
       "<matplotlib.axes._subplots.AxesSubplot at 0x7fef9f232b20>"
      ]
     },
     "execution_count": 45,
     "metadata": {},
     "output_type": "execute_result"
    },
    {
     "data": {
      "image/png": "[encoded data removed]",
      "text/plain": [
       "<Figure size 432x288 with 1 Axes>"
      ]
     },
     "metadata": {
      "needs_background": "light"
     },
     "output_type": "display_data"
    }
   ],
   "source": [
    "train['Age'].plot(kind = 'bar', alpha = 0.5)"
   ]
  },
  {
   "cell_type": "code",
   "execution_count": 41,
   "metadata": {},
   "outputs": [
    {
     "data": {
      "text/plain": [
       "<matplotlib.axes._subplots.AxesSubplot at 0x7fef9e192310>"
      ]
     },
     "execution_count": 41,
     "metadata": {},
     "output_type": "execute_result"
    },
    {
     "data": {
      "image/png": "[encoded data removed]",
      "text/plain": [
       "<Figure size 432x288 with 1 Axes>"
      ]
     },
     "metadata": {
      "needs_background": "light"
     },
     "output_type": "display_data"
    }
   ],
   "source": [
    "train['Fare'].plot(kind='hist', alpha=0.6)\n",
    "train['Fare'].loc[train['Survived'] == 1].plot(kind='hist', alpha=0.6)"
   ]
  },
  {
   "cell_type": "markdown",
   "metadata": {},
   "source": [
    "# Step 3\n",
    "Calculate the proportion of surviving 1st class passengers with regards to the total number of 1st class passengers."
   ]
  },
  {
   "cell_type": "code",
   "execution_count": 43,
   "metadata": {},
   "outputs": [
    {
     "data": {
      "text/plain": [
       "<matplotlib.axes._subplots.AxesSubplot at 0x7fef9e546c70>"
      ]
     },
     "execution_count": 43,
     "metadata": {},
     "output_type": "execute_result"
    },
    {
     "data": {
      "image/png": "[encoded data removed]",
      "text/plain": [
       "<Figure size 432x288 with 1 Axes>"
      ]
     },
     "metadata": {
      "needs_background": "light"
     },
     "output_type": "display_data"
    }
   ],
   "source": [
    "train['Pclass'].plot(kind='hist', alpha=0.6)\n",
    "train['Pclass'].loc[train['Survived'] == 1].plot(kind='hist', alpha=0.6)"
   ]
  },
  {
   "cell_type": "code",
   "execution_count": 46,
   "metadata": {},
   "outputs": [
    {
     "data": {
      "text/plain": [
       "<matplotlib.axes._subplots.AxesSubplot at 0x7fefa160b1f0>"
      ]
     },
     "execution_count": 46,
     "metadata": {},
     "output_type": "execute_result"
    },
    {
     "data": {
      "image/png": "[encoded data removed]",
      "text/plain": [
       "<Figure size 432x288 with 1 Axes>"
      ]
     },
     "metadata": {
      "needs_background": "light"
     },
     "output_type": "display_data"
    }
   ],
   "source": [
    "train['SibSp'].plot(kind='hist', alpha=0.6)\n",
    "train['SibSp'].loc[train['Survived'] == 1].plot(kind='hist', alpha=0.6)"
   ]
  },
  {
   "cell_type": "code",
   "execution_count": 47,
   "metadata": {},
   "outputs": [
    {
     "data": {
      "text/plain": [
       "<matplotlib.axes._subplots.AxesSubplot at 0x7fefa16ac730>"
      ]
     },
     "execution_count": 47,
     "metadata": {},
     "output_type": "execute_result"
    },
    {
     "data": {
      "image/png": "[encoded data removed]",
      "text/plain": [
       "<Figure size 432x288 with 1 Axes>"
      ]
     },
     "metadata": {
      "needs_background": "light"
     },
     "output_type": "display_data"
    }
   ],
   "source": [
    "train['Parch'].plot(kind='hist', alpha=0.6)\n",
    "train['Parch'].loc[train['Survived'] == 1].plot(kind='hist', alpha=0.6)"
   ]
  },
  {
   "cell_type": "code",
   "execution_count": 88,
   "metadata": {},
   "outputs": [
    {
     "data": {
      "text/html": [
       "<div>\n",
       "<style scoped>\n",
       "    .dataframe tbody tr th:only-of-type {\n",
       "        vertical-align: middle;\n",
       "    }\n",
       "\n",
       "    .dataframe tbody tr th {\n",
       "        vertical-align: top;\n",
       "    }\n",
       "\n",
       "    .dataframe thead th {\n",
       "        text-align: right;\n",
       "    }\n",
       "</style>\n",
       "<table border=\"1\" class=\"dataframe\">\n",
       "  <thead>\n",
       "    <tr style=\"text-align: right;\">\n",
       "      <th></th>\n",
       "      <th>Survived</th>\n",
       "      <th>Died</th>\n",
       "    </tr>\n",
       "  </thead>\n",
       "  <tbody>\n",
       "    <tr>\n",
       "      <th>S</th>\n",
       "      <td>217</td>\n",
       "      <td>427</td>\n",
       "    </tr>\n",
       "    <tr>\n",
       "      <th>C</th>\n",
       "      <td>93</td>\n",
       "      <td>75</td>\n",
       "    </tr>\n",
       "    <tr>\n",
       "      <th>Q</th>\n",
       "      <td>30</td>\n",
       "      <td>47</td>\n",
       "    </tr>\n",
       "  </tbody>\n",
       "</table>\n",
       "</div>"
      ],
      "text/plain": [
       "   Survived  Died\n",
       "S       217   427\n",
       "C        93    75\n",
       "Q        30    47"
      ]
     },
     "execution_count": 88,
     "metadata": {},
     "output_type": "execute_result"
    }
   ],
   "source": [
    "SS = sum((train['Embarked'] == 'S') & (train['Survived'] == 1))\n",
    "SD = sum((train['Embarked'] == 'S') & (train['Survived'] == 0))\n",
    "CS = sum((train['Embarked'] == 'C') & (train['Survived'] == 1))\n",
    "CD = sum((train['Embarked'] == 'C') & (train['Survived'] == 0))\n",
    "QS = sum((train['Embarked'] == 'Q') & (train['Survived'] == 1))\n",
    "QD = sum((train['Embarked'] == 'Q') & (train['Survived'] == 0))\n",
    "row = ['S', 'C','Q']\n",
    "col = ['Survived', 'Died']\n",
    "data_embarked = pd.DataFrame(([SS,SD],[CS,CD], [QS, QD]), index = row, columns = col)\n",
    "data_embarked"
   ]
  },
  {
   "cell_type": "code",
   "execution_count": 89,
   "metadata": {},
   "outputs": [
    {
     "data": {
      "text/plain": [
       "<matplotlib.axes._subplots.AxesSubplot at 0x7fefa360d040>"
      ]
     },
     "execution_count": 89,
     "metadata": {},
     "output_type": "execute_result"
    },
    {
     "data": {
      "image/png": "[encoded data removed]",
      "text/plain": [
       "<Figure size 432x288 with 1 Axes>"
      ]
     },
     "metadata": {
      "needs_background": "light"
     },
     "output_type": "display_data"
    }
   ],
   "source": [
    "data_embarked.plot(kind='hist', alpha=0.6)"
   ]
  },
  {
   "cell_type": "markdown",
   "metadata": {},
   "source": [
    "#  Machine Learning"
   ]
  },
  {
   "cell_type": "code",
   "execution_count": 38,
   "metadata": {},
   "outputs": [],
   "source": [
    "import pandas as pd\n",
    "import numpy as np"
   ]
  },
  {
   "cell_type": "code",
   "execution_count": 149,
   "metadata": {},
   "outputs": [
    {
     "data": {
      "text/html": [
       "<div>\n",
       "<style scoped>\n",
       "    .dataframe tbody tr th:only-of-type {\n",
       "        vertical-align: middle;\n",
       "    }\n",
       "\n",
       "    .dataframe tbody tr th {\n",
       "        vertical-align: top;\n",
       "    }\n",
       "\n",
       "    .dataframe thead th {\n",
       "        text-align: right;\n",
       "    }\n",
       "</style>\n",
       "<table border=\"1\" class=\"dataframe\">\n",
       "  <thead>\n",
       "    <tr style=\"text-align: right;\">\n",
       "      <th></th>\n",
       "      <th>PassengerId</th>\n",
       "      <th>Survived</th>\n",
       "      <th>Pclass</th>\n",
       "      <th>Name</th>\n",
       "      <th>Sex</th>\n",
       "      <th>Age</th>\n",
       "      <th>SibSp</th>\n",
       "      <th>Parch</th>\n",
       "      <th>Ticket</th>\n",
       "      <th>Fare</th>\n",
       "      <th>Cabin</th>\n",
       "      <th>Embarked</th>\n",
       "    </tr>\n",
       "  </thead>\n",
       "  <tbody>\n",
       "    <tr>\n",
       "      <th>0</th>\n",
       "      <td>1</td>\n",
       "      <td>0</td>\n",
       "      <td>3</td>\n",
       "      <td>Braund, Mr. Owen Harris</td>\n",
       "      <td>male</td>\n",
       "      <td>22.0</td>\n",
       "      <td>1</td>\n",
       "      <td>0</td>\n",
       "      <td>A/5 21171</td>\n",
       "      <td>7.2500</td>\n",
       "      <td>NaN</td>\n",
       "      <td>S</td>\n",
       "    </tr>\n",
       "    <tr>\n",
       "      <th>1</th>\n",
       "      <td>2</td>\n",
       "      <td>1</td>\n",
       "      <td>1</td>\n",
       "      <td>Cumings, Mrs. John Bradley (Florence Briggs Th...</td>\n",
       "      <td>female</td>\n",
       "      <td>38.0</td>\n",
       "      <td>1</td>\n",
       "      <td>0</td>\n",
       "      <td>PC 17599</td>\n",
       "      <td>71.2833</td>\n",
       "      <td>C85</td>\n",
       "      <td>C</td>\n",
       "    </tr>\n",
       "    <tr>\n",
       "      <th>2</th>\n",
       "      <td>3</td>\n",
       "      <td>1</td>\n",
       "      <td>3</td>\n",
       "      <td>Heikkinen, Miss. Laina</td>\n",
       "      <td>female</td>\n",
       "      <td>26.0</td>\n",
       "      <td>0</td>\n",
       "      <td>0</td>\n",
       "      <td>STON/O2. 3101282</td>\n",
       "      <td>7.9250</td>\n",
       "      <td>NaN</td>\n",
       "      <td>S</td>\n",
       "    </tr>\n",
       "    <tr>\n",
       "      <th>3</th>\n",
       "      <td>4</td>\n",
       "      <td>1</td>\n",
       "      <td>1</td>\n",
       "      <td>Futrelle, Mrs. Jacques Heath (Lily May Peel)</td>\n",
       "      <td>female</td>\n",
       "      <td>35.0</td>\n",
       "      <td>1</td>\n",
       "      <td>0</td>\n",
       "      <td>113803</td>\n",
       "      <td>53.1000</td>\n",
       "      <td>C123</td>\n",
       "      <td>S</td>\n",
       "    </tr>\n",
       "    <tr>\n",
       "      <th>4</th>\n",
       "      <td>5</td>\n",
       "      <td>0</td>\n",
       "      <td>3</td>\n",
       "      <td>Allen, Mr. William Henry</td>\n",
       "      <td>male</td>\n",
       "      <td>35.0</td>\n",
       "      <td>0</td>\n",
       "      <td>0</td>\n",
       "      <td>373450</td>\n",
       "      <td>8.0500</td>\n",
       "      <td>NaN</td>\n",
       "      <td>S</td>\n",
       "    </tr>\n",
       "  </tbody>\n",
       "</table>\n",
       "</div>"
      ],
      "text/plain": [
       "   PassengerId  Survived  Pclass  \\\n",
       "0            1         0       3   \n",
       "1            2         1       1   \n",
       "2            3         1       3   \n",
       "3            4         1       1   \n",
       "4            5         0       3   \n",
       "\n",
       "                                                Name     Sex   Age  SibSp  \\\n",
       "0                            Braund, Mr. Owen Harris    male  22.0      1   \n",
       "1  Cumings, Mrs. John Bradley (Florence Briggs Th...  female  38.0      1   \n",
       "2                             Heikkinen, Miss. Laina  female  26.0      0   \n",
       "3       Futrelle, Mrs. Jacques Heath (Lily May Peel)  female  35.0      1   \n",
       "4                           Allen, Mr. William Henry    male  35.0      0   \n",
       "\n",
       "   Parch            Ticket     Fare Cabin Embarked  \n",
       "0      0         A/5 21171   7.2500   NaN        S  \n",
       "1      0          PC 17599  71.2833   C85        C  \n",
       "2      0  STON/O2. 3101282   7.9250   NaN        S  \n",
       "3      0            113803  53.1000  C123        S  \n",
       "4      0            373450   8.0500   NaN        S  "
      ]
     },
     "execution_count": 149,
     "metadata": {},
     "output_type": "execute_result"
    }
   ],
   "source": [
    "df = pd.read_csv('data/titanic/train.csv', sep=',')\n",
    "df.head()"
   ]
  },
  {
   "cell_type": "code",
   "execution_count": 111,
   "metadata": {},
   "outputs": [
    {
     "data": {
      "text/plain": [
       "array([  1,   2,   3,   4,   5,   6,   7,   8,   9,  10,  11,  12,  13,\n",
       "        14,  15,  16,  17,  18,  19,  20,  21,  22,  23,  24,  25,  26,\n",
       "        27,  28,  29,  30,  31,  32,  33,  34,  35,  36,  37,  38,  39,\n",
       "        40,  41,  42,  43,  44,  45,  46,  47,  48,  49,  50,  51,  52,\n",
       "        53,  54,  55,  56,  57,  58,  59,  60,  61,  62,  63,  64,  65,\n",
       "        66,  67,  68,  69,  70,  71,  72,  73,  74,  75,  76,  77,  78,\n",
       "        79,  80,  81,  82,  83,  84,  85,  86,  87,  88,  89,  90,  91,\n",
       "        92,  93,  94,  95,  96,  97,  98,  99, 100, 101, 102, 103, 104,\n",
       "       105, 106, 107, 108, 109, 110, 111, 112, 113, 114, 115, 116, 117,\n",
       "       118, 119, 120, 121, 122, 123, 124, 125, 126, 127, 128, 129, 130,\n",
       "       131, 132, 133, 134, 135, 136, 137, 138, 139, 140, 141, 142, 143,\n",
       "       144, 145, 146, 147, 148, 149, 150, 151, 152, 153, 154, 155, 156,\n",
       "       157, 158, 159, 160, 161, 162, 163, 164, 165, 166, 167, 168, 169,\n",
       "       170, 171, 172, 173, 174, 175, 176, 177, 178, 179, 180, 181, 182,\n",
       "       183, 184, 185, 186, 187, 188, 189, 190, 191, 192, 193, 194, 195,\n",
       "       196, 197, 198, 199, 200, 201, 202, 203, 204, 205, 206, 207, 208,\n",
       "       209, 210, 211, 212, 213, 214, 215, 216, 217, 218, 219, 220, 221,\n",
       "       222, 223, 224, 225, 226, 227, 228, 229, 230, 231, 232, 233, 234,\n",
       "       235, 236, 237, 238, 239, 240, 241, 242, 243, 244, 245, 246, 247,\n",
       "       248, 249, 250, 251, 252, 253, 254, 255, 256, 257, 258, 259, 260,\n",
       "       261, 262, 263, 264, 265, 266, 267, 268, 269, 270, 271, 272, 273,\n",
       "       274, 275, 276, 277, 278, 279, 280, 281, 282, 283, 284, 285, 286,\n",
       "       287, 288, 289, 290, 291, 292, 293, 294, 295, 296, 297, 298, 299,\n",
       "       300, 301, 302, 303, 304, 305, 306, 307, 308, 309, 310, 311, 312,\n",
       "       313, 314, 315, 316, 317, 318, 319, 320, 321, 322, 323, 324, 325,\n",
       "       326, 327, 328, 329, 330, 331, 332, 333, 334, 335, 336, 337, 338,\n",
       "       339, 340, 341, 342, 343, 344, 345, 346, 347, 348, 349, 350, 351,\n",
       "       352, 353, 354, 355, 356, 357, 358, 359, 360, 361, 362, 363, 364,\n",
       "       365, 366, 367, 368, 369, 370, 371, 372, 373, 374, 375, 376, 377,\n",
       "       378, 379, 380, 381, 382, 383, 384, 385, 386, 387, 388, 389, 390,\n",
       "       391, 392, 393, 394, 395, 396, 397, 398, 399, 400, 401, 402, 403,\n",
       "       404, 405, 406, 407, 408, 409, 410, 411, 412, 413, 414, 415, 416,\n",
       "       417, 418, 419, 420, 421, 422, 423, 424, 425, 426, 427, 428, 429,\n",
       "       430, 431, 432, 433, 434, 435, 436, 437, 438, 439, 440, 441, 442,\n",
       "       443, 444, 445, 446, 447, 448, 449, 450, 451, 452, 453, 454, 455,\n",
       "       456, 457, 458, 459, 460, 461, 462, 463, 464, 465, 466, 467, 468,\n",
       "       469, 470, 471, 472, 473, 474, 475, 476, 477, 478, 479, 480, 481,\n",
       "       482, 483, 484, 485, 486, 487, 488, 489, 490, 491, 492, 493, 494,\n",
       "       495, 496, 497, 498, 499, 500, 501, 502, 503, 504, 505, 506, 507,\n",
       "       508, 509, 510, 511, 512, 513, 514, 515, 516, 517, 518, 519, 520,\n",
       "       521, 522, 523, 524, 525, 526, 527, 528, 529, 530, 531, 532, 533,\n",
       "       534, 535, 536, 537, 538, 539, 540, 541, 542, 543, 544, 545, 546,\n",
       "       547, 548, 549, 550, 551, 552, 553, 554, 555, 556, 557, 558, 559,\n",
       "       560, 561, 562, 563, 564, 565, 566, 567, 568, 569, 570, 571, 572,\n",
       "       573, 574, 575, 576, 577, 578, 579, 580, 581, 582, 583, 584, 585,\n",
       "       586, 587, 588, 589, 590, 591, 592, 593, 594, 595, 596, 597, 598,\n",
       "       599, 600, 601, 602, 603, 604, 605, 606, 607, 608, 609, 610, 611,\n",
       "       612, 613, 614, 615, 616, 617, 618, 619, 620, 621, 622, 623, 624,\n",
       "       625, 626, 627, 628, 629, 630, 631, 632, 633, 634, 635, 636, 637,\n",
       "       638, 639, 640, 641, 642, 643, 644, 645, 646, 647, 648, 649, 650,\n",
       "       651, 652, 653, 654, 655, 656, 657, 658, 659, 660, 661, 662, 663,\n",
       "       664, 665, 666, 667, 668, 669, 670, 671, 672, 673, 674, 675, 676,\n",
       "       677, 678, 679, 680, 681, 682, 683, 684, 685, 686, 687, 688, 689,\n",
       "       690, 691, 692, 693, 694, 695, 696, 697, 698, 699, 700, 701, 702,\n",
       "       703, 704, 705, 706, 707, 708, 709, 710, 711, 712, 713, 714, 715,\n",
       "       716, 717, 718, 719, 720, 721, 722, 723, 724, 725, 726, 727, 728,\n",
       "       729, 730, 731, 732, 733, 734, 735, 736, 737, 738, 739, 740, 741,\n",
       "       742, 743, 744, 745, 746, 747, 748, 749, 750, 751, 752, 753, 754,\n",
       "       755, 756, 757, 758, 759, 760, 761, 762, 763, 764, 765, 766, 767,\n",
       "       768, 769, 770, 771, 772, 773, 774, 775, 776, 777, 778, 779, 780,\n",
       "       781, 782, 783, 784, 785, 786, 787, 788, 789, 790, 791, 792, 793,\n",
       "       794, 795, 796, 797, 798, 799, 800, 801, 802, 803, 804, 805, 806,\n",
       "       807, 808, 809, 810, 811, 812, 813, 814, 815, 816, 817, 818, 819,\n",
       "       820, 821, 822, 823, 824, 825, 826, 827, 828, 829, 830, 831, 832,\n",
       "       833, 834, 835, 836, 837, 838, 839, 840, 841, 842, 843, 844, 845,\n",
       "       846, 847, 848, 849, 850, 851, 852, 853, 854, 855, 856, 857, 858,\n",
       "       859, 860, 861, 862, 863, 864, 865, 866, 867, 868, 869, 870, 871,\n",
       "       872, 873, 874, 875, 876, 877, 878, 879, 880, 881, 882, 883, 884,\n",
       "       885, 886, 887, 888, 889, 890, 891])"
      ]
     },
     "execution_count": 111,
     "metadata": {},
     "output_type": "execute_result"
    }
   ],
   "source": [
    "df['PassengerId'].unique()"
   ]
  },
  {
   "cell_type": "markdown",
   "metadata": {},
   "source": [
    "#### two classes survived, died"
   ]
  },
  {
   "cell_type": "code",
   "execution_count": 112,
   "metadata": {},
   "outputs": [
    {
     "data": {
      "text/html": [
       "<div>\n",
       "<style scoped>\n",
       "    .dataframe tbody tr th:only-of-type {\n",
       "        vertical-align: middle;\n",
       "    }\n",
       "\n",
       "    .dataframe tbody tr th {\n",
       "        vertical-align: top;\n",
       "    }\n",
       "\n",
       "    .dataframe thead th {\n",
       "        text-align: right;\n",
       "    }\n",
       "</style>\n",
       "<table border=\"1\" class=\"dataframe\">\n",
       "  <thead>\n",
       "    <tr style=\"text-align: right;\">\n",
       "      <th></th>\n",
       "      <th>PassengerId</th>\n",
       "      <th>Survived</th>\n",
       "      <th>Pclass</th>\n",
       "      <th>Name</th>\n",
       "      <th>Sex</th>\n",
       "      <th>Age</th>\n",
       "      <th>SibSp</th>\n",
       "      <th>Parch</th>\n",
       "      <th>Ticket</th>\n",
       "      <th>Fare</th>\n",
       "      <th>Cabin</th>\n",
       "      <th>Embarked</th>\n",
       "    </tr>\n",
       "  </thead>\n",
       "  <tbody>\n",
       "    <tr>\n",
       "      <th>0</th>\n",
       "      <td>1</td>\n",
       "      <td>0</td>\n",
       "      <td>3</td>\n",
       "      <td>Braund, Mr. Owen Harris</td>\n",
       "      <td>male</td>\n",
       "      <td>22.0</td>\n",
       "      <td>1</td>\n",
       "      <td>0</td>\n",
       "      <td>A/5 21171</td>\n",
       "      <td>7.2500</td>\n",
       "      <td>NaN</td>\n",
       "      <td>S</td>\n",
       "    </tr>\n",
       "    <tr>\n",
       "      <th>1</th>\n",
       "      <td>2</td>\n",
       "      <td>1</td>\n",
       "      <td>1</td>\n",
       "      <td>Cumings, Mrs. John Bradley (Florence Briggs Th...</td>\n",
       "      <td>female</td>\n",
       "      <td>38.0</td>\n",
       "      <td>1</td>\n",
       "      <td>0</td>\n",
       "      <td>PC 17599</td>\n",
       "      <td>71.2833</td>\n",
       "      <td>C85</td>\n",
       "      <td>C</td>\n",
       "    </tr>\n",
       "    <tr>\n",
       "      <th>2</th>\n",
       "      <td>3</td>\n",
       "      <td>1</td>\n",
       "      <td>3</td>\n",
       "      <td>Heikkinen, Miss. Laina</td>\n",
       "      <td>female</td>\n",
       "      <td>26.0</td>\n",
       "      <td>0</td>\n",
       "      <td>0</td>\n",
       "      <td>STON/O2. 3101282</td>\n",
       "      <td>7.9250</td>\n",
       "      <td>NaN</td>\n",
       "      <td>S</td>\n",
       "    </tr>\n",
       "    <tr>\n",
       "      <th>3</th>\n",
       "      <td>4</td>\n",
       "      <td>1</td>\n",
       "      <td>1</td>\n",
       "      <td>Futrelle, Mrs. Jacques Heath (Lily May Peel)</td>\n",
       "      <td>female</td>\n",
       "      <td>35.0</td>\n",
       "      <td>1</td>\n",
       "      <td>0</td>\n",
       "      <td>113803</td>\n",
       "      <td>53.1000</td>\n",
       "      <td>C123</td>\n",
       "      <td>S</td>\n",
       "    </tr>\n",
       "    <tr>\n",
       "      <th>4</th>\n",
       "      <td>5</td>\n",
       "      <td>0</td>\n",
       "      <td>3</td>\n",
       "      <td>Allen, Mr. William Henry</td>\n",
       "      <td>male</td>\n",
       "      <td>35.0</td>\n",
       "      <td>0</td>\n",
       "      <td>0</td>\n",
       "      <td>373450</td>\n",
       "      <td>8.0500</td>\n",
       "      <td>NaN</td>\n",
       "      <td>S</td>\n",
       "    </tr>\n",
       "  </tbody>\n",
       "</table>\n",
       "</div>"
      ],
      "text/plain": [
       "   PassengerId  Survived  Pclass  \\\n",
       "0            1         0       3   \n",
       "1            2         1       1   \n",
       "2            3         1       3   \n",
       "3            4         1       1   \n",
       "4            5         0       3   \n",
       "\n",
       "                                                Name     Sex   Age  SibSp  \\\n",
       "0                            Braund, Mr. Owen Harris    male  22.0      1   \n",
       "1  Cumings, Mrs. John Bradley (Florence Briggs Th...  female  38.0      1   \n",
       "2                             Heikkinen, Miss. Laina  female  26.0      0   \n",
       "3       Futrelle, Mrs. Jacques Heath (Lily May Peel)  female  35.0      1   \n",
       "4                           Allen, Mr. William Henry    male  35.0      0   \n",
       "\n",
       "   Parch            Ticket     Fare Cabin Embarked  \n",
       "0      0         A/5 21171   7.2500   NaN        S  \n",
       "1      0          PC 17599  71.2833   C85        C  \n",
       "2      0  STON/O2. 3101282   7.9250   NaN        S  \n",
       "3      0            113803  53.1000  C123        S  \n",
       "4      0            373450   8.0500   NaN        S  "
      ]
     },
     "execution_count": 112,
     "metadata": {},
     "output_type": "execute_result"
    }
   ],
   "source": [
    "df_binary = df\n",
    "df_binary.head()"
   ]
  },
  {
   "cell_type": "markdown",
   "metadata": {},
   "source": [
    "## Logistic Regression"
   ]
  },
  {
   "cell_type": "markdown",
   "metadata": {},
   "source": [
    "Titanic:\n",
    "\n",
    "We want to be able to predict whether a passenger of the titanic died or survived given some input data.\n",
    "Logistic Regression estimates the probability of belonging to class 1 (survived) by fitting a sigmoid function."
   ]
  },
  {
   "cell_type": "code",
   "execution_count": 113,
   "metadata": {},
   "outputs": [],
   "source": [
    "from sklearn.linear_model import LogisticRegression\n",
    "from sklearn.model_selection import train_test_split"
   ]
  },
  {
   "cell_type": "code",
   "execution_count": 114,
   "metadata": {},
   "outputs": [
    {
     "data": {
      "text/html": [
       "<div>\n",
       "<style scoped>\n",
       "    .dataframe tbody tr th:only-of-type {\n",
       "        vertical-align: middle;\n",
       "    }\n",
       "\n",
       "    .dataframe tbody tr th {\n",
       "        vertical-align: top;\n",
       "    }\n",
       "\n",
       "    .dataframe thead th {\n",
       "        text-align: right;\n",
       "    }\n",
       "</style>\n",
       "<table border=\"1\" class=\"dataframe\">\n",
       "  <thead>\n",
       "    <tr style=\"text-align: right;\">\n",
       "      <th></th>\n",
       "      <th>PassengerId</th>\n",
       "      <th>Survived</th>\n",
       "      <th>Pclass</th>\n",
       "      <th>Name</th>\n",
       "      <th>Sex</th>\n",
       "      <th>Age</th>\n",
       "      <th>SibSp</th>\n",
       "      <th>Parch</th>\n",
       "      <th>Ticket</th>\n",
       "      <th>Fare</th>\n",
       "      <th>Cabin</th>\n",
       "      <th>Embarked</th>\n",
       "    </tr>\n",
       "  </thead>\n",
       "  <tbody>\n",
       "    <tr>\n",
       "      <th>0</th>\n",
       "      <td>1</td>\n",
       "      <td>0</td>\n",
       "      <td>3</td>\n",
       "      <td>Braund, Mr. Owen Harris</td>\n",
       "      <td>male</td>\n",
       "      <td>22.0</td>\n",
       "      <td>1</td>\n",
       "      <td>0</td>\n",
       "      <td>A/5 21171</td>\n",
       "      <td>7.2500</td>\n",
       "      <td>NaN</td>\n",
       "      <td>S</td>\n",
       "    </tr>\n",
       "    <tr>\n",
       "      <th>1</th>\n",
       "      <td>2</td>\n",
       "      <td>1</td>\n",
       "      <td>1</td>\n",
       "      <td>Cumings, Mrs. John Bradley (Florence Briggs Th...</td>\n",
       "      <td>female</td>\n",
       "      <td>38.0</td>\n",
       "      <td>1</td>\n",
       "      <td>0</td>\n",
       "      <td>PC 17599</td>\n",
       "      <td>71.2833</td>\n",
       "      <td>C85</td>\n",
       "      <td>C</td>\n",
       "    </tr>\n",
       "    <tr>\n",
       "      <th>2</th>\n",
       "      <td>3</td>\n",
       "      <td>1</td>\n",
       "      <td>3</td>\n",
       "      <td>Heikkinen, Miss. Laina</td>\n",
       "      <td>female</td>\n",
       "      <td>26.0</td>\n",
       "      <td>0</td>\n",
       "      <td>0</td>\n",
       "      <td>STON/O2. 3101282</td>\n",
       "      <td>7.9250</td>\n",
       "      <td>NaN</td>\n",
       "      <td>S</td>\n",
       "    </tr>\n",
       "    <tr>\n",
       "      <th>3</th>\n",
       "      <td>4</td>\n",
       "      <td>1</td>\n",
       "      <td>1</td>\n",
       "      <td>Futrelle, Mrs. Jacques Heath (Lily May Peel)</td>\n",
       "      <td>female</td>\n",
       "      <td>35.0</td>\n",
       "      <td>1</td>\n",
       "      <td>0</td>\n",
       "      <td>113803</td>\n",
       "      <td>53.1000</td>\n",
       "      <td>C123</td>\n",
       "      <td>S</td>\n",
       "    </tr>\n",
       "    <tr>\n",
       "      <th>4</th>\n",
       "      <td>5</td>\n",
       "      <td>0</td>\n",
       "      <td>3</td>\n",
       "      <td>Allen, Mr. William Henry</td>\n",
       "      <td>male</td>\n",
       "      <td>35.0</td>\n",
       "      <td>0</td>\n",
       "      <td>0</td>\n",
       "      <td>373450</td>\n",
       "      <td>8.0500</td>\n",
       "      <td>NaN</td>\n",
       "      <td>S</td>\n",
       "    </tr>\n",
       "  </tbody>\n",
       "</table>\n",
       "</div>"
      ],
      "text/plain": [
       "   PassengerId  Survived  Pclass  \\\n",
       "0            1         0       3   \n",
       "1            2         1       1   \n",
       "2            3         1       3   \n",
       "3            4         1       1   \n",
       "4            5         0       3   \n",
       "\n",
       "                                                Name     Sex   Age  SibSp  \\\n",
       "0                            Braund, Mr. Owen Harris    male  22.0      1   \n",
       "1  Cumings, Mrs. John Bradley (Florence Briggs Th...  female  38.0      1   \n",
       "2                             Heikkinen, Miss. Laina  female  26.0      0   \n",
       "3       Futrelle, Mrs. Jacques Heath (Lily May Peel)  female  35.0      1   \n",
       "4                           Allen, Mr. William Henry    male  35.0      0   \n",
       "\n",
       "   Parch            Ticket     Fare Cabin Embarked  \n",
       "0      0         A/5 21171   7.2500   NaN        S  \n",
       "1      0          PC 17599  71.2833   C85        C  \n",
       "2      0  STON/O2. 3101282   7.9250   NaN        S  \n",
       "3      0            113803  53.1000  C123        S  \n",
       "4      0            373450   8.0500   NaN        S  "
      ]
     },
     "execution_count": 114,
     "metadata": {},
     "output_type": "execute_result"
    }
   ],
   "source": [
    "df_binary.head()"
   ]
  },
  {
   "cell_type": "markdown",
   "metadata": {},
   "source": [
    "In challenge we are told to classify according to 1st, 2nd, 3rd classe. Therefore I suspect, that the class is a good criterion to filter on, to build the model on. \n",
    "Other simple idea: sex (male, female)"
   ]
  },
  {
   "cell_type": "code",
   "execution_count": 115,
   "metadata": {},
   "outputs": [
    {
     "data": {
      "text/html": [
       "<div>\n",
       "<style scoped>\n",
       "    .dataframe tbody tr th:only-of-type {\n",
       "        vertical-align: middle;\n",
       "    }\n",
       "\n",
       "    .dataframe tbody tr th {\n",
       "        vertical-align: top;\n",
       "    }\n",
       "\n",
       "    .dataframe thead th {\n",
       "        text-align: right;\n",
       "    }\n",
       "</style>\n",
       "<table border=\"1\" class=\"dataframe\">\n",
       "  <thead>\n",
       "    <tr style=\"text-align: right;\">\n",
       "      <th></th>\n",
       "      <th>Pclass</th>\n",
       "    </tr>\n",
       "  </thead>\n",
       "  <tbody>\n",
       "    <tr>\n",
       "      <th>0</th>\n",
       "      <td>3</td>\n",
       "    </tr>\n",
       "    <tr>\n",
       "      <th>1</th>\n",
       "      <td>1</td>\n",
       "    </tr>\n",
       "    <tr>\n",
       "      <th>2</th>\n",
       "      <td>3</td>\n",
       "    </tr>\n",
       "    <tr>\n",
       "      <th>3</th>\n",
       "      <td>1</td>\n",
       "    </tr>\n",
       "    <tr>\n",
       "      <th>4</th>\n",
       "      <td>3</td>\n",
       "    </tr>\n",
       "  </tbody>\n",
       "</table>\n",
       "</div>"
      ],
      "text/plain": [
       "   Pclass\n",
       "0       3\n",
       "1       1\n",
       "2       3\n",
       "3       1\n",
       "4       3"
      ]
     },
     "execution_count": 115,
     "metadata": {},
     "output_type": "execute_result"
    }
   ],
   "source": [
    "# Define X\n",
    "X = df_binary[['Pclass']]\n",
    "X.head()"
   ]
  },
  {
   "cell_type": "code",
   "execution_count": 116,
   "metadata": {},
   "outputs": [
    {
     "data": {
      "text/plain": [
       "0    0\n",
       "1    1\n",
       "2    1\n",
       "3    1\n",
       "4    0\n",
       "Name: Survived, dtype: int64"
      ]
     },
     "execution_count": 116,
     "metadata": {},
     "output_type": "execute_result"
    }
   ],
   "source": [
    "# Define y\n",
    "y = df_binary['Survived']\n",
    "y.head()"
   ]
  },
  {
   "cell_type": "code",
   "execution_count": 117,
   "metadata": {},
   "outputs": [],
   "source": [
    "# Split the data into a training set and a test set\n",
    "X_train, X_test, y_train, y_test = train_test_split(X,\n",
    "                                                   y,\n",
    "                                                   random_state=42)"
   ]
  },
  {
   "cell_type": "code",
   "execution_count": 118,
   "metadata": {},
   "outputs": [],
   "source": [
    "# Create a model\n",
    "m = LogisticRegression(random_state=30)"
   ]
  },
  {
   "cell_type": "code",
   "execution_count": 119,
   "metadata": {},
   "outputs": [
    {
     "data": {
      "text/plain": [
       "LogisticRegression(random_state=30)"
      ]
     },
     "execution_count": 119,
     "metadata": {},
     "output_type": "execute_result"
    }
   ],
   "source": [
    "m"
   ]
  },
  {
   "cell_type": "code",
   "execution_count": 120,
   "metadata": {},
   "outputs": [
    {
     "data": {
      "text/plain": [
       "LogisticRegression(random_state=30)"
      ]
     },
     "execution_count": 120,
     "metadata": {},
     "output_type": "execute_result"
    }
   ],
   "source": [
    "# Train/fit the model\n",
    "m.fit(X_train, y_train)"
   ]
  },
  {
   "cell_type": "code",
   "execution_count": 121,
   "metadata": {},
   "outputs": [
    {
     "data": {
      "text/plain": [
       "array([1, 0, 0, 0, 1, 0, 0, 0, 1, 0, 0, 0, 0, 1, 0, 1, 0, 0, 0, 0, 0, 0,\n",
       "       0, 0, 0, 0, 1, 0, 0, 0, 0, 1, 0, 0, 1, 0, 0, 1, 1, 0, 0, 1, 1, 0,\n",
       "       1, 1, 0, 0, 0, 0, 1, 0, 0, 0, 0, 1, 0, 0, 0, 1, 0, 0, 0, 0, 0, 0,\n",
       "       0, 0, 0, 0, 0, 0, 1, 0, 0, 0, 0, 0, 1, 0, 0, 0, 1, 0, 0, 1, 0, 1,\n",
       "       0, 0, 0, 0, 0, 0, 0, 0, 0, 1, 0, 1, 0, 0, 0, 0, 0, 0, 0, 0, 0, 0,\n",
       "       0, 0, 1, 1, 0, 0, 0, 0, 0, 0, 0, 0, 0, 1, 0, 1, 0, 1, 0, 0, 0, 0,\n",
       "       0, 1, 0, 0, 0, 0, 0, 0, 0, 0, 0, 1, 0, 0, 1, 1, 0, 0, 0, 0, 0, 1,\n",
       "       0, 0, 0, 1, 0, 1, 1, 0, 0, 0, 1, 0, 0, 1, 0, 1, 0, 1, 1, 0, 0, 0,\n",
       "       0, 1, 0, 1, 0, 0, 0, 1, 0, 0, 0, 0, 0, 0, 0, 0, 0, 1, 0, 0, 1, 0,\n",
       "       0, 0, 0, 0, 0, 0, 0, 1, 0, 0, 1, 0, 0, 1, 0, 0, 0, 0, 0, 0, 0, 0,\n",
       "       0, 1, 1, 0, 1, 0, 0, 0, 0, 0, 0, 0, 0, 1, 0, 0, 0, 0, 0, 0, 0, 0,\n",
       "       0, 0, 0, 0, 0, 1, 0, 0, 0, 1, 1, 1, 1, 1, 0, 1, 0, 1, 0, 0, 0, 0,\n",
       "       0, 0, 0, 1, 0, 0, 0, 0, 0, 0, 1, 0, 0, 0, 0, 0, 0, 0, 0, 0, 0, 1,\n",
       "       0, 0, 0, 1, 0, 0, 0, 0, 0, 0, 0, 0, 0, 0, 0, 1, 0, 0, 1, 0, 0, 1,\n",
       "       1, 1, 0, 0, 0, 0, 0, 0, 0, 0, 0, 0, 1, 0, 0, 1, 0, 0, 1, 0, 0, 0,\n",
       "       0, 0, 0, 0, 0, 0, 0, 0, 0, 0, 0, 1, 0, 1, 0, 0, 0, 0, 0, 0, 0, 0,\n",
       "       0, 0, 0, 0, 1, 0, 0, 0, 0, 0, 1, 0, 0, 0, 0, 1, 0, 0, 0, 1, 0, 0,\n",
       "       0, 0, 0, 0, 0, 0, 0, 0, 0, 0, 0, 1, 0, 1, 0, 0, 0, 0, 0, 0, 1, 0,\n",
       "       0, 0, 1, 0, 0, 1, 0, 1, 0, 0, 0, 1, 1, 0, 0, 0, 0, 0, 0, 0, 0, 1,\n",
       "       0, 0, 1, 0, 0, 0, 0, 1, 0, 0, 0, 0, 0, 0, 1, 0, 0, 0, 0, 0, 0, 0,\n",
       "       1, 0, 0, 1, 0, 0, 1, 0, 0, 0, 0, 0, 0, 0, 0, 0, 1, 0, 0, 0, 1, 1,\n",
       "       1, 1, 0, 0, 1, 0, 0, 0, 0, 0, 0, 1, 1, 1, 0, 0, 0, 1, 0, 0, 0, 0,\n",
       "       1, 0, 0, 0, 0, 0, 0, 1, 0, 1, 0, 1, 0, 0, 1, 0, 0, 1, 1, 1, 0, 0,\n",
       "       0, 0, 0, 0, 0, 0, 1, 1, 0, 0, 0, 0, 0, 0, 0, 0, 0, 0, 0, 0, 0, 0,\n",
       "       0, 0, 0, 0, 0, 0, 0, 0, 0, 0, 1, 0, 1, 0, 0, 0, 0, 0, 0, 0, 1, 0,\n",
       "       1, 0, 1, 0, 1, 1, 1, 0, 0, 0, 1, 0, 1, 1, 0, 1, 1, 1, 0, 1, 1, 1,\n",
       "       0, 0, 0, 0, 1, 1, 0, 0, 1, 0, 0, 0, 0, 0, 0, 0, 0, 1, 0, 0, 0, 0,\n",
       "       1, 0, 0, 0, 0, 1, 0, 1, 0, 0, 0, 0, 0, 0, 0, 0, 1, 1, 0, 0, 0, 1,\n",
       "       0, 1, 0, 0, 0, 0, 0, 0, 1, 0, 1, 1, 0, 0, 0, 0, 0, 1, 0, 0, 0, 0,\n",
       "       0, 0, 0, 0, 0, 0, 0, 0, 0, 0, 0, 0, 1, 0, 0, 0, 0, 0, 0, 0, 0, 0,\n",
       "       0, 1, 0, 0, 1, 0, 1, 1])"
      ]
     },
     "execution_count": 121,
     "metadata": {},
     "output_type": "execute_result"
    }
   ],
   "source": [
    "# Use the model to make predictions on the seen data\n",
    "m.predict(X_train)"
   ]
  },
  {
   "cell_type": "code",
   "execution_count": 122,
   "metadata": {},
   "outputs": [
    {
     "name": "stdout",
     "output_type": "stream",
     "text": [
      "The accuracy of our model is 0.67\n"
     ]
    }
   ],
   "source": [
    "# Inspect the accuracy of the model\n",
    "print(f'The accuracy of our model is {round(m.score(X_train, y_train), 2)}')\n",
    "# The model is able (on the training data) to predict survived/died in 67% of the cases"
   ]
  },
  {
   "cell_type": "code",
   "execution_count": 123,
   "metadata": {},
   "outputs": [
    {
     "data": {
      "text/plain": [
       "[[0.37, 0.63],\n",
       " [0.74, 0.26],\n",
       " [0.57, 0.43],\n",
       " [0.74, 0.26],\n",
       " [0.37, 0.63],\n",
       " [0.57, 0.43],\n",
       " [0.74, 0.26],\n",
       " [0.57, 0.43],\n",
       " [0.37, 0.63],\n",
       " [0.74, 0.26],\n",
       " [0.74, 0.26],\n",
       " [0.74, 0.26],\n",
       " [0.74, 0.26],\n",
       " [0.37, 0.63],\n",
       " [0.74, 0.26],\n",
       " [0.37, 0.63],\n",
       " [0.57, 0.43],\n",
       " [0.74, 0.26],\n",
       " [0.57, 0.43],\n",
       " [0.74, 0.26],\n",
       " [0.74, 0.26],\n",
       " [0.74, 0.26],\n",
       " [0.74, 0.26],\n",
       " [0.74, 0.26],\n",
       " [0.74, 0.26],\n",
       " [0.74, 0.26],\n",
       " [0.37, 0.63],\n",
       " [0.74, 0.26],\n",
       " [0.57, 0.43],\n",
       " [0.74, 0.26],\n",
       " [0.74, 0.26],\n",
       " [0.37, 0.63],\n",
       " [0.74, 0.26],\n",
       " [0.74, 0.26],\n",
       " [0.37, 0.63],\n",
       " [0.57, 0.43],\n",
       " [0.57, 0.43],\n",
       " [0.37, 0.63],\n",
       " [0.37, 0.63],\n",
       " [0.57, 0.43],\n",
       " [0.74, 0.26],\n",
       " [0.37, 0.63],\n",
       " [0.37, 0.63],\n",
       " [0.74, 0.26],\n",
       " [0.37, 0.63],\n",
       " [0.37, 0.63],\n",
       " [0.74, 0.26],\n",
       " [0.74, 0.26],\n",
       " [0.57, 0.43],\n",
       " [0.57, 0.43],\n",
       " [0.37, 0.63],\n",
       " [0.57, 0.43],\n",
       " [0.74, 0.26],\n",
       " [0.74, 0.26],\n",
       " [0.57, 0.43],\n",
       " [0.37, 0.63],\n",
       " [0.57, 0.43],\n",
       " [0.74, 0.26],\n",
       " [0.74, 0.26],\n",
       " [0.37, 0.63],\n",
       " [0.74, 0.26],\n",
       " [0.57, 0.43],\n",
       " [0.74, 0.26],\n",
       " [0.74, 0.26],\n",
       " [0.74, 0.26],\n",
       " [0.57, 0.43],\n",
       " [0.74, 0.26],\n",
       " [0.74, 0.26],\n",
       " [0.74, 0.26],\n",
       " [0.74, 0.26],\n",
       " [0.74, 0.26],\n",
       " [0.74, 0.26],\n",
       " [0.37, 0.63],\n",
       " [0.74, 0.26],\n",
       " [0.57, 0.43],\n",
       " [0.74, 0.26],\n",
       " [0.74, 0.26],\n",
       " [0.74, 0.26],\n",
       " [0.37, 0.63],\n",
       " [0.57, 0.43],\n",
       " [0.57, 0.43],\n",
       " [0.74, 0.26],\n",
       " [0.37, 0.63],\n",
       " [0.74, 0.26],\n",
       " [0.74, 0.26],\n",
       " [0.37, 0.63],\n",
       " [0.57, 0.43],\n",
       " [0.37, 0.63],\n",
       " [0.57, 0.43],\n",
       " [0.57, 0.43],\n",
       " [0.74, 0.26],\n",
       " [0.74, 0.26],\n",
       " [0.57, 0.43],\n",
       " [0.74, 0.26],\n",
       " [0.57, 0.43],\n",
       " [0.57, 0.43],\n",
       " [0.74, 0.26],\n",
       " [0.37, 0.63],\n",
       " [0.74, 0.26],\n",
       " [0.37, 0.63],\n",
       " [0.74, 0.26],\n",
       " [0.57, 0.43],\n",
       " [0.74, 0.26],\n",
       " [0.74, 0.26],\n",
       " [0.74, 0.26],\n",
       " [0.74, 0.26],\n",
       " [0.74, 0.26],\n",
       " [0.74, 0.26],\n",
       " [0.74, 0.26],\n",
       " [0.74, 0.26],\n",
       " [0.57, 0.43],\n",
       " [0.57, 0.43],\n",
       " [0.37, 0.63],\n",
       " [0.37, 0.63],\n",
       " [0.57, 0.43],\n",
       " [0.74, 0.26],\n",
       " [0.57, 0.43],\n",
       " [0.74, 0.26],\n",
       " [0.74, 0.26],\n",
       " [0.74, 0.26],\n",
       " [0.74, 0.26],\n",
       " [0.74, 0.26],\n",
       " [0.74, 0.26],\n",
       " [0.37, 0.63],\n",
       " [0.74, 0.26],\n",
       " [0.37, 0.63],\n",
       " [0.74, 0.26],\n",
       " [0.37, 0.63],\n",
       " [0.74, 0.26],\n",
       " [0.74, 0.26],\n",
       " [0.57, 0.43],\n",
       " [0.74, 0.26],\n",
       " [0.74, 0.26],\n",
       " [0.37, 0.63],\n",
       " [0.57, 0.43],\n",
       " [0.74, 0.26],\n",
       " [0.74, 0.26],\n",
       " [0.74, 0.26],\n",
       " [0.57, 0.43],\n",
       " [0.74, 0.26],\n",
       " [0.74, 0.26],\n",
       " [0.74, 0.26],\n",
       " [0.74, 0.26],\n",
       " [0.37, 0.63],\n",
       " [0.74, 0.26],\n",
       " [0.74, 0.26],\n",
       " [0.37, 0.63],\n",
       " [0.37, 0.63],\n",
       " [0.57, 0.43],\n",
       " [0.74, 0.26],\n",
       " [0.57, 0.43],\n",
       " [0.74, 0.26],\n",
       " [0.74, 0.26],\n",
       " [0.37, 0.63],\n",
       " [0.74, 0.26],\n",
       " [0.57, 0.43],\n",
       " [0.74, 0.26],\n",
       " [0.37, 0.63],\n",
       " [0.74, 0.26],\n",
       " [0.37, 0.63],\n",
       " [0.37, 0.63],\n",
       " [0.74, 0.26],\n",
       " [0.74, 0.26],\n",
       " [0.57, 0.43],\n",
       " [0.37, 0.63],\n",
       " [0.74, 0.26],\n",
       " [0.74, 0.26],\n",
       " [0.37, 0.63],\n",
       " [0.74, 0.26],\n",
       " [0.37, 0.63],\n",
       " [0.57, 0.43],\n",
       " [0.37, 0.63],\n",
       " [0.37, 0.63],\n",
       " [0.57, 0.43],\n",
       " [0.74, 0.26],\n",
       " [0.57, 0.43],\n",
       " [0.57, 0.43],\n",
       " [0.37, 0.63],\n",
       " [0.74, 0.26],\n",
       " [0.37, 0.63],\n",
       " [0.74, 0.26],\n",
       " [0.57, 0.43],\n",
       " [0.74, 0.26],\n",
       " [0.37, 0.63],\n",
       " [0.74, 0.26],\n",
       " [0.57, 0.43],\n",
       " [0.74, 0.26],\n",
       " [0.74, 0.26],\n",
       " [0.74, 0.26],\n",
       " [0.57, 0.43],\n",
       " [0.57, 0.43],\n",
       " [0.57, 0.43],\n",
       " [0.74, 0.26],\n",
       " [0.37, 0.63],\n",
       " [0.57, 0.43],\n",
       " [0.74, 0.26],\n",
       " [0.37, 0.63],\n",
       " [0.57, 0.43],\n",
       " [0.74, 0.26],\n",
       " [0.57, 0.43],\n",
       " [0.74, 0.26],\n",
       " [0.74, 0.26],\n",
       " [0.74, 0.26],\n",
       " [0.57, 0.43],\n",
       " [0.74, 0.26],\n",
       " [0.37, 0.63],\n",
       " [0.57, 0.43],\n",
       " [0.74, 0.26],\n",
       " [0.37, 0.63],\n",
       " [0.74, 0.26],\n",
       " [0.57, 0.43],\n",
       " [0.37, 0.63],\n",
       " [0.74, 0.26],\n",
       " [0.74, 0.26],\n",
       " [0.74, 0.26],\n",
       " [0.74, 0.26],\n",
       " [0.57, 0.43],\n",
       " [0.74, 0.26],\n",
       " [0.74, 0.26],\n",
       " [0.74, 0.26],\n",
       " [0.74, 0.26],\n",
       " [0.37, 0.63],\n",
       " [0.37, 0.63],\n",
       " [0.57, 0.43],\n",
       " [0.37, 0.63],\n",
       " [0.57, 0.43],\n",
       " [0.57, 0.43],\n",
       " [0.74, 0.26],\n",
       " [0.74, 0.26],\n",
       " [0.74, 0.26],\n",
       " [0.57, 0.43],\n",
       " [0.74, 0.26],\n",
       " [0.74, 0.26],\n",
       " [0.37, 0.63],\n",
       " [0.57, 0.43],\n",
       " [0.74, 0.26],\n",
       " [0.74, 0.26],\n",
       " [0.74, 0.26],\n",
       " [0.74, 0.26],\n",
       " [0.74, 0.26],\n",
       " [0.74, 0.26],\n",
       " [0.57, 0.43],\n",
       " [0.74, 0.26],\n",
       " [0.57, 0.43],\n",
       " [0.74, 0.26],\n",
       " [0.57, 0.43],\n",
       " [0.74, 0.26],\n",
       " [0.37, 0.63],\n",
       " [0.74, 0.26],\n",
       " [0.57, 0.43],\n",
       " [0.74, 0.26],\n",
       " [0.37, 0.63],\n",
       " [0.37, 0.63],\n",
       " [0.37, 0.63],\n",
       " [0.37, 0.63],\n",
       " [0.37, 0.63],\n",
       " [0.74, 0.26],\n",
       " [0.37, 0.63],\n",
       " [0.74, 0.26],\n",
       " [0.37, 0.63],\n",
       " [0.74, 0.26],\n",
       " [0.74, 0.26],\n",
       " [0.74, 0.26],\n",
       " [0.74, 0.26],\n",
       " [0.74, 0.26],\n",
       " [0.57, 0.43],\n",
       " [0.74, 0.26],\n",
       " [0.37, 0.63],\n",
       " [0.74, 0.26],\n",
       " [0.74, 0.26],\n",
       " [0.74, 0.26],\n",
       " [0.57, 0.43],\n",
       " [0.74, 0.26],\n",
       " [0.57, 0.43],\n",
       " [0.37, 0.63],\n",
       " [0.74, 0.26],\n",
       " [0.74, 0.26],\n",
       " [0.57, 0.43],\n",
       " [0.74, 0.26],\n",
       " [0.74, 0.26],\n",
       " [0.74, 0.26],\n",
       " [0.74, 0.26],\n",
       " [0.74, 0.26],\n",
       " [0.74, 0.26],\n",
       " [0.74, 0.26],\n",
       " [0.37, 0.63],\n",
       " [0.74, 0.26],\n",
       " [0.74, 0.26],\n",
       " [0.57, 0.43],\n",
       " [0.37, 0.63],\n",
       " [0.74, 0.26],\n",
       " [0.74, 0.26],\n",
       " [0.74, 0.26],\n",
       " [0.74, 0.26],\n",
       " [0.74, 0.26],\n",
       " [0.74, 0.26],\n",
       " [0.57, 0.43],\n",
       " [0.74, 0.26],\n",
       " [0.74, 0.26],\n",
       " [0.74, 0.26],\n",
       " [0.74, 0.26],\n",
       " [0.37, 0.63],\n",
       " [0.57, 0.43],\n",
       " [0.57, 0.43],\n",
       " [0.37, 0.63],\n",
       " [0.74, 0.26],\n",
       " [0.74, 0.26],\n",
       " [0.37, 0.63],\n",
       " [0.37, 0.63],\n",
       " [0.37, 0.63],\n",
       " [0.74, 0.26],\n",
       " [0.74, 0.26],\n",
       " [0.74, 0.26],\n",
       " [0.74, 0.26],\n",
       " [0.57, 0.43],\n",
       " [0.57, 0.43],\n",
       " [0.74, 0.26],\n",
       " [0.57, 0.43],\n",
       " [0.74, 0.26],\n",
       " [0.74, 0.26],\n",
       " [0.37, 0.63],\n",
       " [0.57, 0.43],\n",
       " [0.74, 0.26],\n",
       " [0.37, 0.63],\n",
       " [0.74, 0.26],\n",
       " [0.74, 0.26],\n",
       " [0.37, 0.63],\n",
       " [0.74, 0.26],\n",
       " [0.74, 0.26],\n",
       " [0.74, 0.26],\n",
       " [0.57, 0.43],\n",
       " [0.74, 0.26],\n",
       " [0.74, 0.26],\n",
       " [0.74, 0.26],\n",
       " [0.74, 0.26],\n",
       " [0.74, 0.26],\n",
       " [0.57, 0.43],\n",
       " [0.74, 0.26],\n",
       " [0.74, 0.26],\n",
       " [0.74, 0.26],\n",
       " [0.74, 0.26],\n",
       " [0.37, 0.63],\n",
       " [0.74, 0.26],\n",
       " [0.37, 0.63],\n",
       " [0.74, 0.26],\n",
       " [0.74, 0.26],\n",
       " [0.74, 0.26],\n",
       " [0.74, 0.26],\n",
       " [0.74, 0.26],\n",
       " [0.74, 0.26],\n",
       " [0.57, 0.43],\n",
       " [0.57, 0.43],\n",
       " [0.74, 0.26],\n",
       " [0.74, 0.26],\n",
       " [0.74, 0.26],\n",
       " [0.74, 0.26],\n",
       " [0.37, 0.63],\n",
       " [0.74, 0.26],\n",
       " [0.74, 0.26],\n",
       " [0.74, 0.26],\n",
       " [0.74, 0.26],\n",
       " [0.57, 0.43],\n",
       " [0.37, 0.63],\n",
       " [0.74, 0.26],\n",
       " [0.74, 0.26],\n",
       " [0.74, 0.26],\n",
       " [0.57, 0.43],\n",
       " [0.37, 0.63],\n",
       " [0.74, 0.26],\n",
       " [0.74, 0.26],\n",
       " [0.74, 0.26],\n",
       " [0.37, 0.63],\n",
       " [0.74, 0.26],\n",
       " [0.57, 0.43],\n",
       " [0.74, 0.26],\n",
       " [0.74, 0.26],\n",
       " [0.74, 0.26],\n",
       " [0.57, 0.43],\n",
       " [0.57, 0.43],\n",
       " [0.74, 0.26],\n",
       " [0.74, 0.26],\n",
       " [0.74, 0.26],\n",
       " [0.57, 0.43],\n",
       " [0.74, 0.26],\n",
       " [0.57, 0.43],\n",
       " [0.37, 0.63],\n",
       " [0.74, 0.26],\n",
       " [0.37, 0.63],\n",
       " [0.74, 0.26],\n",
       " [0.74, 0.26],\n",
       " [0.57, 0.43],\n",
       " [0.74, 0.26],\n",
       " [0.57, 0.43],\n",
       " [0.74, 0.26],\n",
       " [0.37, 0.63],\n",
       " [0.74, 0.26],\n",
       " [0.57, 0.43],\n",
       " [0.74, 0.26],\n",
       " [0.37, 0.63],\n",
       " [0.74, 0.26],\n",
       " [0.57, 0.43],\n",
       " [0.37, 0.63],\n",
       " [0.74, 0.26],\n",
       " [0.37, 0.63],\n",
       " [0.74, 0.26],\n",
       " [0.57, 0.43],\n",
       " [0.57, 0.43],\n",
       " [0.37, 0.63],\n",
       " [0.37, 0.63],\n",
       " [0.74, 0.26],\n",
       " [0.74, 0.26],\n",
       " [0.74, 0.26],\n",
       " [0.74, 0.26],\n",
       " [0.74, 0.26],\n",
       " [0.74, 0.26],\n",
       " [0.74, 0.26],\n",
       " [0.57, 0.43],\n",
       " [0.37, 0.63],\n",
       " [0.74, 0.26],\n",
       " [0.57, 0.43],\n",
       " [0.37, 0.63],\n",
       " [0.57, 0.43],\n",
       " [0.74, 0.26],\n",
       " [0.74, 0.26],\n",
       " [0.74, 0.26],\n",
       " [0.37, 0.63],\n",
       " [0.74, 0.26],\n",
       " [0.74, 0.26],\n",
       " [0.74, 0.26],\n",
       " [0.57, 0.43],\n",
       " [0.57, 0.43],\n",
       " [0.74, 0.26],\n",
       " [0.37, 0.63],\n",
       " [0.74, 0.26],\n",
       " [0.74, 0.26],\n",
       " [0.74, 0.26],\n",
       " [0.74, 0.26],\n",
       " [0.57, 0.43],\n",
       " [0.74, 0.26],\n",
       " [0.74, 0.26],\n",
       " [0.37, 0.63],\n",
       " [0.74, 0.26],\n",
       " [0.57, 0.43],\n",
       " [0.37, 0.63],\n",
       " [0.57, 0.43],\n",
       " [0.57, 0.43],\n",
       " [0.37, 0.63],\n",
       " [0.74, 0.26],\n",
       " [0.74, 0.26],\n",
       " [0.74, 0.26],\n",
       " [0.74, 0.26],\n",
       " [0.74, 0.26],\n",
       " [0.74, 0.26],\n",
       " [0.74, 0.26],\n",
       " [0.57, 0.43],\n",
       " [0.74, 0.26],\n",
       " [0.37, 0.63],\n",
       " [0.74, 0.26],\n",
       " [0.57, 0.43],\n",
       " [0.57, 0.43],\n",
       " [0.37, 0.63],\n",
       " [0.37, 0.63],\n",
       " [0.37, 0.63],\n",
       " [0.37, 0.63],\n",
       " [0.74, 0.26],\n",
       " [0.74, 0.26],\n",
       " [0.37, 0.63],\n",
       " [0.74, 0.26],\n",
       " [0.57, 0.43],\n",
       " [0.74, 0.26],\n",
       " [0.74, 0.26],\n",
       " [0.74, 0.26],\n",
       " [0.74, 0.26],\n",
       " [0.37, 0.63],\n",
       " [0.37, 0.63],\n",
       " [0.37, 0.63],\n",
       " [0.74, 0.26],\n",
       " [0.74, 0.26],\n",
       " [0.74, 0.26],\n",
       " [0.37, 0.63],\n",
       " [0.74, 0.26],\n",
       " [0.57, 0.43],\n",
       " [0.57, 0.43],\n",
       " [0.74, 0.26],\n",
       " [0.37, 0.63],\n",
       " [0.74, 0.26],\n",
       " [0.74, 0.26],\n",
       " [0.74, 0.26],\n",
       " [0.74, 0.26],\n",
       " [0.57, 0.43],\n",
       " [0.74, 0.26],\n",
       " [0.37, 0.63],\n",
       " [0.57, 0.43],\n",
       " [0.37, 0.63],\n",
       " [0.74, 0.26],\n",
       " [0.37, 0.63],\n",
       " [0.74, 0.26],\n",
       " [0.57, 0.43],\n",
       " [0.37, 0.63],\n",
       " [0.74, 0.26],\n",
       " [0.74, 0.26],\n",
       " [0.37, 0.63],\n",
       " [0.37, 0.63],\n",
       " [0.37, 0.63],\n",
       " [0.74, 0.26],\n",
       " [0.74, 0.26],\n",
       " [0.57, 0.43],\n",
       " [0.74, 0.26],\n",
       " [0.74, 0.26],\n",
       " [0.74, 0.26],\n",
       " [0.74, 0.26],\n",
       " [0.74, 0.26],\n",
       " [0.37, 0.63],\n",
       " [0.37, 0.63],\n",
       " [0.74, 0.26],\n",
       " [0.74, 0.26],\n",
       " [0.74, 0.26],\n",
       " [0.74, 0.26],\n",
       " [0.57, 0.43],\n",
       " [0.74, 0.26],\n",
       " [0.57, 0.43],\n",
       " [0.74, 0.26],\n",
       " [0.74, 0.26],\n",
       " [0.74, 0.26],\n",
       " [0.74, 0.26],\n",
       " [0.74, 0.26],\n",
       " [0.57, 0.43],\n",
       " [0.74, 0.26],\n",
       " [0.74, 0.26],\n",
       " [0.57, 0.43],\n",
       " [0.74, 0.26],\n",
       " [0.74, 0.26],\n",
       " [0.74, 0.26],\n",
       " [0.74, 0.26],\n",
       " [0.74, 0.26],\n",
       " [0.74, 0.26],\n",
       " [0.74, 0.26],\n",
       " [0.57, 0.43],\n",
       " [0.37, 0.63],\n",
       " [0.74, 0.26],\n",
       " [0.37, 0.63],\n",
       " [0.74, 0.26],\n",
       " [0.74, 0.26],\n",
       " [0.57, 0.43],\n",
       " [0.57, 0.43],\n",
       " [0.57, 0.43],\n",
       " [0.74, 0.26],\n",
       " [0.74, 0.26],\n",
       " [0.37, 0.63],\n",
       " [0.74, 0.26],\n",
       " [0.37, 0.63],\n",
       " [0.74, 0.26],\n",
       " [0.37, 0.63],\n",
       " [0.74, 0.26],\n",
       " [0.37, 0.63],\n",
       " [0.37, 0.63],\n",
       " [0.37, 0.63],\n",
       " [0.74, 0.26],\n",
       " [0.74, 0.26],\n",
       " [0.74, 0.26],\n",
       " [0.37, 0.63],\n",
       " [0.74, 0.26],\n",
       " [0.37, 0.63],\n",
       " [0.37, 0.63],\n",
       " [0.74, 0.26],\n",
       " [0.37, 0.63],\n",
       " [0.37, 0.63],\n",
       " [0.37, 0.63],\n",
       " [0.74, 0.26],\n",
       " [0.37, 0.63],\n",
       " [0.37, 0.63],\n",
       " [0.37, 0.63],\n",
       " [0.74, 0.26],\n",
       " [0.57, 0.43],\n",
       " [0.74, 0.26],\n",
       " [0.74, 0.26],\n",
       " [0.37, 0.63],\n",
       " [0.37, 0.63],\n",
       " [0.74, 0.26],\n",
       " [0.57, 0.43],\n",
       " [0.37, 0.63],\n",
       " [0.74, 0.26],\n",
       " [0.74, 0.26],\n",
       " [0.74, 0.26],\n",
       " [0.57, 0.43],\n",
       " [0.74, 0.26],\n",
       " [0.74, 0.26],\n",
       " [0.74, 0.26],\n",
       " [0.57, 0.43],\n",
       " [0.37, 0.63],\n",
       " [0.74, 0.26],\n",
       " [0.74, 0.26],\n",
       " [0.74, 0.26],\n",
       " [0.74, 0.26],\n",
       " [0.37, 0.63],\n",
       " [0.74, 0.26],\n",
       " [0.74, 0.26],\n",
       " [0.57, 0.43],\n",
       " [0.74, 0.26],\n",
       " [0.37, 0.63],\n",
       " [0.74, 0.26],\n",
       " [0.37, 0.63],\n",
       " [0.74, 0.26],\n",
       " [0.57, 0.43],\n",
       " [0.74, 0.26],\n",
       " [0.74, 0.26],\n",
       " [0.74, 0.26],\n",
       " [0.74, 0.26],\n",
       " [0.57, 0.43],\n",
       " [0.57, 0.43],\n",
       " [0.37, 0.63],\n",
       " [0.37, 0.63],\n",
       " [0.57, 0.43],\n",
       " [0.74, 0.26],\n",
       " [0.74, 0.26],\n",
       " [0.37, 0.63],\n",
       " [0.74, 0.26],\n",
       " [0.37, 0.63],\n",
       " [0.57, 0.43],\n",
       " [0.74, 0.26],\n",
       " [0.74, 0.26],\n",
       " [0.57, 0.43],\n",
       " [0.74, 0.26],\n",
       " [0.74, 0.26],\n",
       " [0.37, 0.63],\n",
       " [0.74, 0.26],\n",
       " [0.37, 0.63],\n",
       " [0.37, 0.63],\n",
       " [0.74, 0.26],\n",
       " [0.57, 0.43],\n",
       " [0.74, 0.26],\n",
       " [0.74, 0.26],\n",
       " [0.57, 0.43],\n",
       " [0.37, 0.63],\n",
       " [0.57, 0.43],\n",
       " [0.74, 0.26],\n",
       " [0.74, 0.26],\n",
       " [0.74, 0.26],\n",
       " [0.74, 0.26],\n",
       " [0.57, 0.43],\n",
       " [0.57, 0.43],\n",
       " [0.74, 0.26],\n",
       " [0.57, 0.43],\n",
       " [0.74, 0.26],\n",
       " [0.57, 0.43],\n",
       " [0.74, 0.26],\n",
       " [0.57, 0.43],\n",
       " [0.74, 0.26],\n",
       " [0.74, 0.26],\n",
       " [0.74, 0.26],\n",
       " [0.37, 0.63],\n",
       " [0.57, 0.43],\n",
       " [0.74, 0.26],\n",
       " [0.74, 0.26],\n",
       " [0.57, 0.43],\n",
       " [0.74, 0.26],\n",
       " [0.74, 0.26],\n",
       " [0.57, 0.43],\n",
       " [0.74, 0.26],\n",
       " [0.74, 0.26],\n",
       " [0.57, 0.43],\n",
       " [0.37, 0.63],\n",
       " [0.74, 0.26],\n",
       " [0.74, 0.26],\n",
       " [0.37, 0.63],\n",
       " [0.74, 0.26],\n",
       " [0.37, 0.63],\n",
       " [0.37, 0.63]]"
      ]
     },
     "execution_count": 123,
     "metadata": {},
     "output_type": "execute_result"
    }
   ],
   "source": [
    "# Inspect the probabilities the model assigns\n",
    "[[round(l[0], 2), round(l[1], 2)] for l in m.predict_proba(X_train)]\n",
    "#Anja: no clear boundary between the two states"
   ]
  },
  {
   "cell_type": "code",
   "execution_count": 124,
   "metadata": {},
   "outputs": [
    {
     "data": {
      "text/plain": [
       "-0.8042855681625191"
      ]
     },
     "execution_count": 124,
     "metadata": {},
     "output_type": "execute_result"
    }
   ],
   "source": [
    "# Inspect the coefficients and the intercept\n",
    "w1 = m.coef_[0][0]\n",
    "w1"
   ]
  },
  {
   "cell_type": "code",
   "execution_count": 125,
   "metadata": {},
   "outputs": [
    {
     "data": {
      "text/plain": [
       "1.343215686761826"
      ]
     },
     "execution_count": 125,
     "metadata": {},
     "output_type": "execute_result"
    }
   ],
   "source": [
    "w0 = m.intercept_[0]\n",
    "w0"
   ]
  },
  {
   "cell_type": "code",
   "execution_count": 126,
   "metadata": {},
   "outputs": [
    {
     "data": {
      "text/plain": [
       "array([0, 1])"
      ]
     },
     "execution_count": 126,
     "metadata": {},
     "output_type": "execute_result"
    }
   ],
   "source": [
    "m.classes_"
   ]
  },
  {
   "cell_type": "code",
   "execution_count": 127,
   "metadata": {},
   "outputs": [],
   "source": [
    "# If time permits visualize what the sigmoid function fits in this case\n",
    "def sigmoid_function(x):\n",
    "    '''\n",
    "    Returns the probability of a penguin belonging to the species Gentoo for a given x. p(y=Gentoo|x)\n",
    "    \n",
    "    Parameters\n",
    "    ----------\n",
    "    x : The flipper length of the penguin in mm\n",
    "    '''\n",
    "    return (1/(1+np.exp(-(w0+w1*x))))"
   ]
  },
  {
   "cell_type": "code",
   "execution_count": 128,
   "metadata": {},
   "outputs": [
    {
     "data": {
      "text/plain": [
       "0.63"
      ]
     },
     "execution_count": 128,
     "metadata": {},
     "output_type": "execute_result"
    }
   ],
   "source": [
    "round(sigmoid_function(1), 2) # The probability of a passenger in 1st class belonging to the class survived"
   ]
  },
  {
   "cell_type": "code",
   "execution_count": 129,
   "metadata": {},
   "outputs": [
    {
     "data": {
      "text/plain": [
       "0.43"
      ]
     },
     "execution_count": 129,
     "metadata": {},
     "output_type": "execute_result"
    }
   ],
   "source": [
    "round(sigmoid_function(2), 2) # The probability of a passenger in 2nd class belonging to the class survived"
   ]
  },
  {
   "cell_type": "code",
   "execution_count": 130,
   "metadata": {},
   "outputs": [
    {
     "data": {
      "text/plain": [
       "0.26"
      ]
     },
     "execution_count": 130,
     "metadata": {},
     "output_type": "execute_result"
    }
   ],
   "source": [
    "round(sigmoid_function(3), 2) # The probability of a passenger in 3rd class belonging to the class survived"
   ]
  },
  {
   "cell_type": "code",
   "execution_count": 131,
   "metadata": {},
   "outputs": [
    {
     "data": {
      "text/html": [
       "<div>\n",
       "<style scoped>\n",
       "    .dataframe tbody tr th:only-of-type {\n",
       "        vertical-align: middle;\n",
       "    }\n",
       "\n",
       "    .dataframe tbody tr th {\n",
       "        vertical-align: top;\n",
       "    }\n",
       "\n",
       "    .dataframe thead th {\n",
       "        text-align: right;\n",
       "    }\n",
       "</style>\n",
       "<table border=\"1\" class=\"dataframe\">\n",
       "  <thead>\n",
       "    <tr style=\"text-align: right;\">\n",
       "      <th></th>\n",
       "      <th>Pclass</th>\n",
       "    </tr>\n",
       "  </thead>\n",
       "  <tbody>\n",
       "    <tr>\n",
       "      <th>298</th>\n",
       "      <td>1</td>\n",
       "    </tr>\n",
       "    <tr>\n",
       "      <th>884</th>\n",
       "      <td>3</td>\n",
       "    </tr>\n",
       "    <tr>\n",
       "      <th>247</th>\n",
       "      <td>2</td>\n",
       "    </tr>\n",
       "    <tr>\n",
       "      <th>478</th>\n",
       "      <td>3</td>\n",
       "    </tr>\n",
       "    <tr>\n",
       "      <th>305</th>\n",
       "      <td>1</td>\n",
       "    </tr>\n",
       "  </tbody>\n",
       "</table>\n",
       "</div>"
      ],
      "text/plain": [
       "     Pclass\n",
       "298       1\n",
       "884       3\n",
       "247       2\n",
       "478       3\n",
       "305       1"
      ]
     },
     "execution_count": 131,
     "metadata": {},
     "output_type": "execute_result"
    }
   ],
   "source": [
    "X_train.head()"
   ]
  },
  {
   "cell_type": "code",
   "execution_count": 132,
   "metadata": {},
   "outputs": [
    {
     "data": {
      "text/html": [
       "<div>\n",
       "<style scoped>\n",
       "    .dataframe tbody tr th:only-of-type {\n",
       "        vertical-align: middle;\n",
       "    }\n",
       "\n",
       "    .dataframe tbody tr th {\n",
       "        vertical-align: top;\n",
       "    }\n",
       "\n",
       "    .dataframe thead th {\n",
       "        text-align: right;\n",
       "    }\n",
       "</style>\n",
       "<table border=\"1\" class=\"dataframe\">\n",
       "  <thead>\n",
       "    <tr style=\"text-align: right;\">\n",
       "      <th></th>\n",
       "      <th>PassengerId</th>\n",
       "      <th>Survived</th>\n",
       "      <th>Pclass</th>\n",
       "      <th>Name</th>\n",
       "      <th>Sex</th>\n",
       "      <th>Age</th>\n",
       "      <th>SibSp</th>\n",
       "      <th>Parch</th>\n",
       "      <th>Ticket</th>\n",
       "      <th>Fare</th>\n",
       "      <th>Cabin</th>\n",
       "      <th>Embarked</th>\n",
       "      <th>survivor</th>\n",
       "    </tr>\n",
       "  </thead>\n",
       "  <tbody>\n",
       "    <tr>\n",
       "      <th>0</th>\n",
       "      <td>1</td>\n",
       "      <td>0</td>\n",
       "      <td>3</td>\n",
       "      <td>Braund, Mr. Owen Harris</td>\n",
       "      <td>male</td>\n",
       "      <td>22.0</td>\n",
       "      <td>1</td>\n",
       "      <td>0</td>\n",
       "      <td>A/5 21171</td>\n",
       "      <td>7.2500</td>\n",
       "      <td>NaN</td>\n",
       "      <td>S</td>\n",
       "      <td>0.26</td>\n",
       "    </tr>\n",
       "    <tr>\n",
       "      <th>1</th>\n",
       "      <td>2</td>\n",
       "      <td>1</td>\n",
       "      <td>1</td>\n",
       "      <td>Cumings, Mrs. John Bradley (Florence Briggs Th...</td>\n",
       "      <td>female</td>\n",
       "      <td>38.0</td>\n",
       "      <td>1</td>\n",
       "      <td>0</td>\n",
       "      <td>PC 17599</td>\n",
       "      <td>71.2833</td>\n",
       "      <td>C85</td>\n",
       "      <td>C</td>\n",
       "      <td>0.63</td>\n",
       "    </tr>\n",
       "    <tr>\n",
       "      <th>2</th>\n",
       "      <td>3</td>\n",
       "      <td>1</td>\n",
       "      <td>3</td>\n",
       "      <td>Heikkinen, Miss. Laina</td>\n",
       "      <td>female</td>\n",
       "      <td>26.0</td>\n",
       "      <td>0</td>\n",
       "      <td>0</td>\n",
       "      <td>STON/O2. 3101282</td>\n",
       "      <td>7.9250</td>\n",
       "      <td>NaN</td>\n",
       "      <td>S</td>\n",
       "      <td>0.26</td>\n",
       "    </tr>\n",
       "    <tr>\n",
       "      <th>3</th>\n",
       "      <td>4</td>\n",
       "      <td>1</td>\n",
       "      <td>1</td>\n",
       "      <td>Futrelle, Mrs. Jacques Heath (Lily May Peel)</td>\n",
       "      <td>female</td>\n",
       "      <td>35.0</td>\n",
       "      <td>1</td>\n",
       "      <td>0</td>\n",
       "      <td>113803</td>\n",
       "      <td>53.1000</td>\n",
       "      <td>C123</td>\n",
       "      <td>S</td>\n",
       "      <td>0.63</td>\n",
       "    </tr>\n",
       "    <tr>\n",
       "      <th>4</th>\n",
       "      <td>5</td>\n",
       "      <td>0</td>\n",
       "      <td>3</td>\n",
       "      <td>Allen, Mr. William Henry</td>\n",
       "      <td>male</td>\n",
       "      <td>35.0</td>\n",
       "      <td>0</td>\n",
       "      <td>0</td>\n",
       "      <td>373450</td>\n",
       "      <td>8.0500</td>\n",
       "      <td>NaN</td>\n",
       "      <td>S</td>\n",
       "      <td>0.26</td>\n",
       "    </tr>\n",
       "  </tbody>\n",
       "</table>\n",
       "</div>"
      ],
      "text/plain": [
       "   PassengerId  Survived  Pclass  \\\n",
       "0            1         0       3   \n",
       "1            2         1       1   \n",
       "2            3         1       3   \n",
       "3            4         1       1   \n",
       "4            5         0       3   \n",
       "\n",
       "                                                Name     Sex   Age  SibSp  \\\n",
       "0                            Braund, Mr. Owen Harris    male  22.0      1   \n",
       "1  Cumings, Mrs. John Bradley (Florence Briggs Th...  female  38.0      1   \n",
       "2                             Heikkinen, Miss. Laina  female  26.0      0   \n",
       "3       Futrelle, Mrs. Jacques Heath (Lily May Peel)  female  35.0      1   \n",
       "4                           Allen, Mr. William Henry    male  35.0      0   \n",
       "\n",
       "   Parch            Ticket     Fare Cabin Embarked  survivor  \n",
       "0      0         A/5 21171   7.2500   NaN        S      0.26  \n",
       "1      0          PC 17599  71.2833   C85        C      0.63  \n",
       "2      0  STON/O2. 3101282   7.9250   NaN        S      0.26  \n",
       "3      0            113803  53.1000  C123        S      0.63  \n",
       "4      0            373450   8.0500   NaN        S      0.26  "
      ]
     },
     "execution_count": 132,
     "metadata": {},
     "output_type": "execute_result"
    }
   ],
   "source": [
    "# Create a new column that displays the probability of belonging to class survivor\n",
    "df_binary['survivor'] = round(df['Pclass'].apply(sigmoid_function), 2)\n",
    "df_binary.head()"
   ]
  },
  {
   "cell_type": "code",
   "execution_count": 133,
   "metadata": {},
   "outputs": [],
   "source": [
    "import seaborn as sns"
   ]
  },
  {
   "cell_type": "code",
   "execution_count": 134,
   "metadata": {},
   "outputs": [
    {
     "data": {
      "text/plain": [
       "<matplotlib.axes._subplots.AxesSubplot at 0x7fa2cf534880>"
      ]
     },
     "execution_count": 134,
     "metadata": {},
     "output_type": "execute_result"
    },
    {
     "data": {
      "image/png": "[encoded data removed]",
      "text/plain": [
       "<Figure size 432x288 with 1 Axes>"
      ]
     },
     "metadata": {
      "needs_background": "light"
     },
     "output_type": "display_data"
    }
   ],
   "source": [
    "sns.lineplot(x='Pclass', y='survivor', data=df_binary)\n",
    "#not very interesting, there are only three values 0.63, 0.43, 0.26 to depict "
   ]
  },
  {
   "cell_type": "markdown",
   "metadata": {},
   "source": [
    "It is absolutely possible to use more than one input feature"
   ]
  },
  {
   "cell_type": "code",
   "execution_count": 161,
   "metadata": {},
   "outputs": [
    {
     "data": {
      "text/html": [
       "<div>\n",
       "<style scoped>\n",
       "    .dataframe tbody tr th:only-of-type {\n",
       "        vertical-align: middle;\n",
       "    }\n",
       "\n",
       "    .dataframe tbody tr th {\n",
       "        vertical-align: top;\n",
       "    }\n",
       "\n",
       "    .dataframe thead th {\n",
       "        text-align: right;\n",
       "    }\n",
       "</style>\n",
       "<table border=\"1\" class=\"dataframe\">\n",
       "  <thead>\n",
       "    <tr style=\"text-align: right;\">\n",
       "      <th></th>\n",
       "      <th>PassengerId</th>\n",
       "      <th>Survived</th>\n",
       "      <th>Pclass</th>\n",
       "      <th>Name</th>\n",
       "      <th>Sex</th>\n",
       "      <th>Age</th>\n",
       "      <th>SibSp</th>\n",
       "      <th>Parch</th>\n",
       "      <th>Ticket</th>\n",
       "      <th>Fare</th>\n",
       "      <th>Cabin</th>\n",
       "      <th>Embarked</th>\n",
       "    </tr>\n",
       "  </thead>\n",
       "  <tbody>\n",
       "    <tr>\n",
       "      <th>0</th>\n",
       "      <td>1</td>\n",
       "      <td>0</td>\n",
       "      <td>3</td>\n",
       "      <td>Braund, Mr. Owen Harris</td>\n",
       "      <td>1</td>\n",
       "      <td>22.0</td>\n",
       "      <td>1</td>\n",
       "      <td>0</td>\n",
       "      <td>A/5 21171</td>\n",
       "      <td>7.2500</td>\n",
       "      <td>NaN</td>\n",
       "      <td>S</td>\n",
       "    </tr>\n",
       "    <tr>\n",
       "      <th>1</th>\n",
       "      <td>2</td>\n",
       "      <td>1</td>\n",
       "      <td>1</td>\n",
       "      <td>Cumings, Mrs. John Bradley (Florence Briggs Th...</td>\n",
       "      <td>0</td>\n",
       "      <td>38.0</td>\n",
       "      <td>1</td>\n",
       "      <td>0</td>\n",
       "      <td>PC 17599</td>\n",
       "      <td>71.2833</td>\n",
       "      <td>C85</td>\n",
       "      <td>C</td>\n",
       "    </tr>\n",
       "    <tr>\n",
       "      <th>2</th>\n",
       "      <td>3</td>\n",
       "      <td>1</td>\n",
       "      <td>3</td>\n",
       "      <td>Heikkinen, Miss. Laina</td>\n",
       "      <td>0</td>\n",
       "      <td>26.0</td>\n",
       "      <td>0</td>\n",
       "      <td>0</td>\n",
       "      <td>STON/O2. 3101282</td>\n",
       "      <td>7.9250</td>\n",
       "      <td>NaN</td>\n",
       "      <td>S</td>\n",
       "    </tr>\n",
       "    <tr>\n",
       "      <th>3</th>\n",
       "      <td>4</td>\n",
       "      <td>1</td>\n",
       "      <td>1</td>\n",
       "      <td>Futrelle, Mrs. Jacques Heath (Lily May Peel)</td>\n",
       "      <td>0</td>\n",
       "      <td>35.0</td>\n",
       "      <td>1</td>\n",
       "      <td>0</td>\n",
       "      <td>113803</td>\n",
       "      <td>53.1000</td>\n",
       "      <td>C123</td>\n",
       "      <td>S</td>\n",
       "    </tr>\n",
       "    <tr>\n",
       "      <th>4</th>\n",
       "      <td>5</td>\n",
       "      <td>0</td>\n",
       "      <td>3</td>\n",
       "      <td>Allen, Mr. William Henry</td>\n",
       "      <td>1</td>\n",
       "      <td>35.0</td>\n",
       "      <td>0</td>\n",
       "      <td>0</td>\n",
       "      <td>373450</td>\n",
       "      <td>8.0500</td>\n",
       "      <td>NaN</td>\n",
       "      <td>S</td>\n",
       "    </tr>\n",
       "  </tbody>\n",
       "</table>\n",
       "</div>"
      ],
      "text/plain": [
       "   PassengerId  Survived  Pclass  \\\n",
       "0            1         0       3   \n",
       "1            2         1       1   \n",
       "2            3         1       3   \n",
       "3            4         1       1   \n",
       "4            5         0       3   \n",
       "\n",
       "                                                Name  Sex   Age  SibSp  Parch  \\\n",
       "0                            Braund, Mr. Owen Harris    1  22.0      1      0   \n",
       "1  Cumings, Mrs. John Bradley (Florence Briggs Th...    0  38.0      1      0   \n",
       "2                             Heikkinen, Miss. Laina    0  26.0      0      0   \n",
       "3       Futrelle, Mrs. Jacques Heath (Lily May Peel)    0  35.0      1      0   \n",
       "4                           Allen, Mr. William Henry    1  35.0      0      0   \n",
       "\n",
       "             Ticket     Fare Cabin Embarked  \n",
       "0         A/5 21171   7.2500   NaN        S  \n",
       "1          PC 17599  71.2833   C85        C  \n",
       "2  STON/O2. 3101282   7.9250   NaN        S  \n",
       "3            113803  53.1000  C123        S  \n",
       "4            373450   8.0500   NaN        S  "
      ]
     },
     "execution_count": 161,
     "metadata": {},
     "output_type": "execute_result"
    }
   ],
   "source": [
    "df = pd.read_csv('data/titanic/train.csv', sep=',')\n",
    "df['Sex'].replace(to_replace =['female', 'male'], value = [0, 1], inplace=True)\n",
    "df.head()"
   ]
  },
  {
   "cell_type": "code",
   "execution_count": 162,
   "metadata": {},
   "outputs": [],
   "source": [
    "m1 = LogisticRegression(random_state=44)\n",
    "X = df_binary2[['Pclass', 'Sex']]\n",
    "y = df_binary2['Survived']\n",
    "X_train, X_test, y_train, y_test = train_test_split(X, y, random_state=42)"
   ]
  },
  {
   "cell_type": "code",
   "execution_count": 163,
   "metadata": {},
   "outputs": [
    {
     "data": {
      "text/plain": [
       "LogisticRegression(random_state=44)"
      ]
     },
     "execution_count": 163,
     "metadata": {},
     "output_type": "execute_result"
    }
   ],
   "source": [
    "m1"
   ]
  },
  {
   "cell_type": "code",
   "execution_count": 164,
   "metadata": {},
   "outputs": [
    {
     "data": {
      "text/plain": [
       "LogisticRegression(random_state=44)"
      ]
     },
     "execution_count": 164,
     "metadata": {},
     "output_type": "execute_result"
    }
   ],
   "source": [
    "# Train/fit the model\n",
    "m1.fit(X_train, y_train)"
   ]
  },
  {
   "cell_type": "code",
   "execution_count": 165,
   "metadata": {},
   "outputs": [
    {
     "data": {
      "text/plain": [
       "array([0, 0, 1, 0, 0, 1, 1, 0, 1, 0, 1, 0, 1, 1, 1, 1, 0, 0, 1, 0, 1, 0,\n",
       "       0, 0, 0, 0, 0, 1, 0, 0, 0, 0, 0, 0, 1, 0, 1, 1, 0, 1, 0, 0, 0, 0,\n",
       "       0, 0, 0, 1, 0, 0, 0, 1, 0, 0, 0, 1, 0, 0, 0, 1, 0, 0, 0, 1, 0, 0,\n",
       "       0, 0, 0, 1, 1, 0, 0, 0, 0, 0, 1, 1, 0, 0, 0, 0, 0, 0, 1, 0, 0, 0,\n",
       "       1, 0, 0, 0, 1, 1, 1, 0, 1, 0, 0, 0, 0, 1, 1, 0, 1, 1, 0, 0, 0, 1,\n",
       "       0, 0, 0, 1, 1, 0, 0, 0, 0, 0, 0, 0, 0, 1, 0, 0, 0, 1, 0, 0, 0, 1,\n",
       "       0, 0, 0, 0, 0, 1, 1, 1, 0, 1, 1, 0, 0, 0, 0, 1, 0, 0, 0, 0, 0, 1,\n",
       "       1, 1, 0, 1, 1, 1, 1, 0, 0, 0, 0, 0, 1, 1, 1, 1, 1, 1, 1, 0, 0, 0,\n",
       "       1, 1, 0, 1, 0, 1, 1, 1, 0, 1, 1, 0, 0, 1, 1, 0, 1, 1, 0, 0, 0, 1,\n",
       "       0, 0, 0, 0, 0, 1, 0, 1, 1, 1, 0, 1, 0, 0, 0, 0, 0, 0, 0, 1, 0, 0,\n",
       "       0, 0, 0, 0, 1, 0, 0, 0, 0, 1, 0, 0, 0, 0, 0, 0, 0, 0, 0, 1, 0, 0,\n",
       "       0, 0, 0, 1, 1, 1, 0, 0, 1, 1, 1, 0, 1, 1, 0, 1, 1, 1, 0, 0, 0, 0,\n",
       "       1, 1, 0, 1, 0, 0, 0, 1, 0, 0, 0, 0, 1, 1, 0, 0, 1, 0, 0, 0, 0, 1,\n",
       "       0, 1, 0, 0, 0, 0, 0, 1, 1, 0, 1, 0, 0, 1, 1, 0, 0, 0, 0, 1, 0, 0,\n",
       "       0, 0, 0, 0, 0, 0, 1, 0, 0, 1, 1, 0, 1, 1, 0, 0, 1, 0, 0, 1, 1, 0,\n",
       "       1, 0, 1, 0, 1, 0, 0, 0, 0, 0, 0, 1, 0, 0, 1, 0, 0, 0, 0, 0, 0, 1,\n",
       "       0, 0, 1, 0, 0, 1, 1, 0, 0, 1, 1, 0, 0, 1, 0, 0, 0, 1, 0, 0, 0, 0,\n",
       "       0, 0, 1, 0, 1, 0, 0, 1, 0, 1, 1, 1, 0, 0, 0, 0, 1, 1, 0, 0, 0, 0,\n",
       "       1, 0, 1, 0, 0, 0, 1, 1, 0, 0, 0, 0, 0, 0, 1, 0, 0, 0, 0, 0, 0, 1,\n",
       "       1, 1, 1, 1, 0, 0, 0, 1, 1, 1, 0, 0, 0, 0, 0, 1, 1, 0, 0, 0, 1, 0,\n",
       "       1, 0, 0, 1, 0, 0, 0, 0, 1, 1, 0, 1, 0, 0, 0, 0, 1, 0, 0, 1, 0, 0,\n",
       "       0, 0, 0, 1, 0, 0, 0, 0, 0, 0, 1, 1, 1, 0, 0, 1, 0, 0, 0, 0, 1, 1,\n",
       "       0, 0, 0, 0, 0, 0, 0, 0, 1, 1, 0, 1, 1, 0, 0, 0, 0, 0, 1, 0, 1, 1,\n",
       "       0, 0, 0, 0, 1, 0, 0, 0, 0, 1, 0, 0, 0, 0, 0, 0, 1, 1, 1, 0, 1, 0,\n",
       "       0, 1, 1, 1, 0, 1, 1, 1, 0, 0, 0, 0, 1, 0, 0, 0, 0, 0, 0, 0, 1, 0,\n",
       "       0, 0, 0, 1, 0, 1, 0, 1, 1, 1, 0, 0, 0, 1, 1, 1, 1, 0, 0, 0, 0, 0,\n",
       "       1, 1, 0, 0, 1, 1, 0, 1, 0, 1, 0, 1, 0, 0, 0, 0, 1, 1, 0, 0, 0, 1,\n",
       "       0, 0, 0, 1, 0, 1, 0, 0, 1, 1, 0, 1, 0, 1, 1, 1, 0, 1, 0, 0, 0, 0,\n",
       "       0, 1, 0, 0, 0, 0, 0, 0, 0, 0, 0, 0, 0, 1, 1, 0, 1, 0, 0, 0, 0, 0,\n",
       "       1, 0, 0, 0, 0, 0, 0, 0, 0, 0, 0, 0, 1, 0, 0, 0, 1, 1, 0, 0, 0, 0,\n",
       "       0, 1, 1, 1, 0, 0, 1, 0])"
      ]
     },
     "execution_count": 165,
     "metadata": {},
     "output_type": "execute_result"
    }
   ],
   "source": [
    "# Use the model to make predictions on the seen data\n",
    "m1.predict(X_train)"
   ]
  },
  {
   "cell_type": "code",
   "execution_count": 166,
   "metadata": {},
   "outputs": [
    {
     "name": "stdout",
     "output_type": "stream",
     "text": [
      "The accuracy of our model is 0.79\n"
     ]
    }
   ],
   "source": [
    "# Inspect the accuracy of the model\n",
    "print(f'The accuracy of our model is {round(m1.score(X_train, y_train), 2)}')\n",
    "# The model is able (on the training data) to predict survived/died in 67% of the cases"
   ]
  },
  {
   "cell_type": "code",
   "execution_count": 167,
   "metadata": {
    "scrolled": false
   },
   "outputs": [
    {
     "data": {
      "text/plain": [
       "[[0.58, 0.42],\n",
       " [0.89, 0.11],\n",
       " [0.21, 0.79],\n",
       " [0.89, 0.11],\n",
       " [0.58, 0.42],\n",
       " [0.21, 0.79],\n",
       " [0.4, 0.6],\n",
       " [0.77, 0.23],\n",
       " [0.1, 0.9],\n",
       " [0.89, 0.11],\n",
       " [0.4, 0.6],\n",
       " [0.89, 0.11],\n",
       " [0.4, 0.6],\n",
       " [0.1, 0.9],\n",
       " [0.4, 0.6],\n",
       " [0.1, 0.9],\n",
       " [0.77, 0.23],\n",
       " [0.89, 0.11],\n",
       " [0.21, 0.79],\n",
       " [0.89, 0.11],\n",
       " [0.4, 0.6],\n",
       " [0.89, 0.11],\n",
       " [0.89, 0.11],\n",
       " [0.89, 0.11],\n",
       " [0.89, 0.11],\n",
       " [0.89, 0.11],\n",
       " [0.58, 0.42],\n",
       " [0.4, 0.6],\n",
       " [0.77, 0.23],\n",
       " [0.89, 0.11],\n",
       " [0.89, 0.11],\n",
       " [0.58, 0.42],\n",
       " [0.89, 0.11],\n",
       " [0.89, 0.11],\n",
       " [0.1, 0.9],\n",
       " [0.77, 0.23],\n",
       " [0.21, 0.79],\n",
       " [0.1, 0.9],\n",
       " [0.58, 0.42],\n",
       " [0.21, 0.79],\n",
       " [0.89, 0.11],\n",
       " [0.58, 0.42],\n",
       " [0.58, 0.42],\n",
       " [0.89, 0.11],\n",
       " [0.58, 0.42],\n",
       " [0.58, 0.42],\n",
       " [0.89, 0.11],\n",
       " [0.4, 0.6],\n",
       " [0.77, 0.23],\n",
       " [0.77, 0.23],\n",
       " [0.58, 0.42],\n",
       " [0.21, 0.79],\n",
       " [0.89, 0.11],\n",
       " [0.89, 0.11],\n",
       " [0.77, 0.23],\n",
       " [0.1, 0.9],\n",
       " [0.77, 0.23],\n",
       " [0.89, 0.11],\n",
       " [0.89, 0.11],\n",
       " [0.1, 0.9],\n",
       " [0.89, 0.11],\n",
       " [0.77, 0.23],\n",
       " [0.89, 0.11],\n",
       " [0.4, 0.6],\n",
       " [0.89, 0.11],\n",
       " [0.77, 0.23],\n",
       " [0.89, 0.11],\n",
       " [0.89, 0.11],\n",
       " [0.89, 0.11],\n",
       " [0.4, 0.6],\n",
       " [0.4, 0.6],\n",
       " [0.89, 0.11],\n",
       " [0.58, 0.42],\n",
       " [0.89, 0.11],\n",
       " [0.77, 0.23],\n",
       " [0.89, 0.11],\n",
       " [0.4, 0.6],\n",
       " [0.4, 0.6],\n",
       " [0.58, 0.42],\n",
       " [0.77, 0.23],\n",
       " [0.77, 0.23],\n",
       " [0.89, 0.11],\n",
       " [0.58, 0.42],\n",
       " [0.89, 0.11],\n",
       " [0.4, 0.6],\n",
       " [0.58, 0.42],\n",
       " [0.77, 0.23],\n",
       " [0.58, 0.42],\n",
       " [0.21, 0.79],\n",
       " [0.77, 0.23],\n",
       " [0.89, 0.11],\n",
       " [0.89, 0.11],\n",
       " [0.21, 0.79],\n",
       " [0.4, 0.6],\n",
       " [0.21, 0.79],\n",
       " [0.77, 0.23],\n",
       " [0.4, 0.6],\n",
       " [0.58, 0.42],\n",
       " [0.89, 0.11],\n",
       " [0.58, 0.42],\n",
       " [0.89, 0.11],\n",
       " [0.21, 0.79],\n",
       " [0.4, 0.6],\n",
       " [0.89, 0.11],\n",
       " [0.4, 0.6],\n",
       " [0.4, 0.6],\n",
       " [0.89, 0.11],\n",
       " [0.89, 0.11],\n",
       " [0.89, 0.11],\n",
       " [0.4, 0.6],\n",
       " [0.77, 0.23],\n",
       " [0.77, 0.23],\n",
       " [0.58, 0.42],\n",
       " [0.1, 0.9],\n",
       " [0.21, 0.79],\n",
       " [0.89, 0.11],\n",
       " [0.77, 0.23],\n",
       " [0.89, 0.11],\n",
       " [0.89, 0.11],\n",
       " [0.89, 0.11],\n",
       " [0.89, 0.11],\n",
       " [0.89, 0.11],\n",
       " [0.89, 0.11],\n",
       " [0.1, 0.9],\n",
       " [0.89, 0.11],\n",
       " [0.58, 0.42],\n",
       " [0.89, 0.11],\n",
       " [0.1, 0.9],\n",
       " [0.89, 0.11],\n",
       " [0.89, 0.11],\n",
       " [0.77, 0.23],\n",
       " [0.4, 0.6],\n",
       " [0.89, 0.11],\n",
       " [0.58, 0.42],\n",
       " [0.77, 0.23],\n",
       " [0.89, 0.11],\n",
       " [0.89, 0.11],\n",
       " [0.4, 0.6],\n",
       " [0.21, 0.79],\n",
       " [0.4, 0.6],\n",
       " [0.89, 0.11],\n",
       " [0.4, 0.6],\n",
       " [0.4, 0.6],\n",
       " [0.58, 0.42],\n",
       " [0.89, 0.11],\n",
       " [0.89, 0.11],\n",
       " [0.58, 0.42],\n",
       " [0.1, 0.9],\n",
       " [0.77, 0.23],\n",
       " [0.89, 0.11],\n",
       " [0.77, 0.23],\n",
       " [0.89, 0.11],\n",
       " [0.89, 0.11],\n",
       " [0.1, 0.9],\n",
       " [0.4, 0.6],\n",
       " [0.21, 0.79],\n",
       " [0.89, 0.11],\n",
       " [0.1, 0.9],\n",
       " [0.4, 0.6],\n",
       " [0.1, 0.9],\n",
       " [0.1, 0.9],\n",
       " [0.89, 0.11],\n",
       " [0.89, 0.11],\n",
       " [0.77, 0.23],\n",
       " [0.58, 0.42],\n",
       " [0.89, 0.11],\n",
       " [0.4, 0.6],\n",
       " [0.1, 0.9],\n",
       " [0.4, 0.6],\n",
       " [0.1, 0.9],\n",
       " [0.21, 0.79],\n",
       " [0.1, 0.9],\n",
       " [0.1, 0.9],\n",
       " [0.77, 0.23],\n",
       " [0.89, 0.11],\n",
       " [0.77, 0.23],\n",
       " [0.21, 0.79],\n",
       " [0.1, 0.9],\n",
       " [0.89, 0.11],\n",
       " [0.1, 0.9],\n",
       " [0.89, 0.11],\n",
       " [0.21, 0.79],\n",
       " [0.4, 0.6],\n",
       " [0.1, 0.9],\n",
       " [0.89, 0.11],\n",
       " [0.21, 0.79],\n",
       " [0.4, 0.6],\n",
       " [0.89, 0.11],\n",
       " [0.89, 0.11],\n",
       " [0.21, 0.79],\n",
       " [0.21, 0.79],\n",
       " [0.77, 0.23],\n",
       " [0.4, 0.6],\n",
       " [0.1, 0.9],\n",
       " [0.77, 0.23],\n",
       " [0.89, 0.11],\n",
       " [0.58, 0.42],\n",
       " [0.21, 0.79],\n",
       " [0.89, 0.11],\n",
       " [0.77, 0.23],\n",
       " [0.89, 0.11],\n",
       " [0.89, 0.11],\n",
       " [0.89, 0.11],\n",
       " [0.21, 0.79],\n",
       " [0.89, 0.11],\n",
       " [0.1, 0.9],\n",
       " [0.21, 0.79],\n",
       " [0.4, 0.6],\n",
       " [0.58, 0.42],\n",
       " [0.4, 0.6],\n",
       " [0.77, 0.23],\n",
       " [0.58, 0.42],\n",
       " [0.89, 0.11],\n",
       " [0.89, 0.11],\n",
       " [0.89, 0.11],\n",
       " [0.89, 0.11],\n",
       " [0.77, 0.23],\n",
       " [0.4, 0.6],\n",
       " [0.89, 0.11],\n",
       " [0.89, 0.11],\n",
       " [0.89, 0.11],\n",
       " [0.58, 0.42],\n",
       " [0.58, 0.42],\n",
       " [0.77, 0.23],\n",
       " [0.1, 0.9],\n",
       " [0.77, 0.23],\n",
       " [0.77, 0.23],\n",
       " [0.89, 0.11],\n",
       " [0.89, 0.11],\n",
       " [0.4, 0.6],\n",
       " [0.77, 0.23],\n",
       " [0.89, 0.11],\n",
       " [0.89, 0.11],\n",
       " [0.58, 0.42],\n",
       " [0.77, 0.23],\n",
       " [0.89, 0.11],\n",
       " [0.89, 0.11],\n",
       " [0.89, 0.11],\n",
       " [0.89, 0.11],\n",
       " [0.4, 0.6],\n",
       " [0.89, 0.11],\n",
       " [0.77, 0.23],\n",
       " [0.89, 0.11],\n",
       " [0.77, 0.23],\n",
       " [0.89, 0.11],\n",
       " [0.21, 0.79],\n",
       " [0.4, 0.6],\n",
       " [0.1, 0.9],\n",
       " [0.89, 0.11],\n",
       " [0.77, 0.23],\n",
       " [0.4, 0.6],\n",
       " [0.1, 0.9],\n",
       " [0.1, 0.9],\n",
       " [0.58, 0.42],\n",
       " [0.1, 0.9],\n",
       " [0.1, 0.9],\n",
       " [0.89, 0.11],\n",
       " [0.1, 0.9],\n",
       " [0.4, 0.6],\n",
       " [0.1, 0.9],\n",
       " [0.89, 0.11],\n",
       " [0.89, 0.11],\n",
       " [0.89, 0.11],\n",
       " [0.89, 0.11],\n",
       " [0.4, 0.6],\n",
       " [0.21, 0.79],\n",
       " [0.89, 0.11],\n",
       " [0.1, 0.9],\n",
       " [0.89, 0.11],\n",
       " [0.89, 0.11],\n",
       " [0.89, 0.11],\n",
       " [0.21, 0.79],\n",
       " [0.89, 0.11],\n",
       " [0.77, 0.23],\n",
       " [0.58, 0.42],\n",
       " [0.89, 0.11],\n",
       " [0.4, 0.6],\n",
       " [0.21, 0.79],\n",
       " [0.89, 0.11],\n",
       " [0.89, 0.11],\n",
       " [0.4, 0.6],\n",
       " [0.89, 0.11],\n",
       " [0.89, 0.11],\n",
       " [0.89, 0.11],\n",
       " [0.89, 0.11],\n",
       " [0.1, 0.9],\n",
       " [0.89, 0.11],\n",
       " [0.4, 0.6],\n",
       " [0.77, 0.23],\n",
       " [0.58, 0.42],\n",
       " [0.89, 0.11],\n",
       " [0.89, 0.11],\n",
       " [0.89, 0.11],\n",
       " [0.4, 0.6],\n",
       " [0.4, 0.6],\n",
       " [0.89, 0.11],\n",
       " [0.21, 0.79],\n",
       " [0.89, 0.11],\n",
       " [0.89, 0.11],\n",
       " [0.4, 0.6],\n",
       " [0.4, 0.6],\n",
       " [0.58, 0.42],\n",
       " [0.77, 0.23],\n",
       " [0.77, 0.23],\n",
       " [0.58, 0.42],\n",
       " [0.4, 0.6],\n",
       " [0.89, 0.11],\n",
       " [0.58, 0.42],\n",
       " [0.58, 0.42],\n",
       " [0.58, 0.42],\n",
       " [0.89, 0.11],\n",
       " [0.89, 0.11],\n",
       " [0.89, 0.11],\n",
       " [0.89, 0.11],\n",
       " [0.21, 0.79],\n",
       " [0.77, 0.23],\n",
       " [0.89, 0.11],\n",
       " [0.21, 0.79],\n",
       " [0.4, 0.6],\n",
       " [0.89, 0.11],\n",
       " [0.1, 0.9],\n",
       " [0.21, 0.79],\n",
       " [0.89, 0.11],\n",
       " [0.58, 0.42],\n",
       " [0.4, 0.6],\n",
       " [0.89, 0.11],\n",
       " [0.58, 0.42],\n",
       " [0.4, 0.6],\n",
       " [0.4, 0.6],\n",
       " [0.89, 0.11],\n",
       " [0.21, 0.79],\n",
       " [0.89, 0.11],\n",
       " [0.4, 0.6],\n",
       " [0.89, 0.11],\n",
       " [0.4, 0.6],\n",
       " [0.89, 0.11],\n",
       " [0.77, 0.23],\n",
       " [0.89, 0.11],\n",
       " [0.89, 0.11],\n",
       " [0.89, 0.11],\n",
       " [0.89, 0.11],\n",
       " [0.1, 0.9],\n",
       " [0.89, 0.11],\n",
       " [0.58, 0.42],\n",
       " [0.4, 0.6],\n",
       " [0.89, 0.11],\n",
       " [0.89, 0.11],\n",
       " [0.89, 0.11],\n",
       " [0.89, 0.11],\n",
       " [0.89, 0.11],\n",
       " [0.77, 0.23],\n",
       " [0.21, 0.79],\n",
       " [0.89, 0.11],\n",
       " [0.89, 0.11],\n",
       " [0.4, 0.6],\n",
       " [0.89, 0.11],\n",
       " [0.58, 0.42],\n",
       " [0.4, 0.6],\n",
       " [0.4, 0.6],\n",
       " [0.89, 0.11],\n",
       " [0.89, 0.11],\n",
       " [0.21, 0.79],\n",
       " [0.1, 0.9],\n",
       " [0.89, 0.11],\n",
       " [0.89, 0.11],\n",
       " [0.4, 0.6],\n",
       " [0.77, 0.23],\n",
       " [0.58, 0.42],\n",
       " [0.89, 0.11],\n",
       " [0.4, 0.6],\n",
       " [0.89, 0.11],\n",
       " [0.58, 0.42],\n",
       " [0.89, 0.11],\n",
       " [0.77, 0.23],\n",
       " [0.89, 0.11],\n",
       " [0.89, 0.11],\n",
       " [0.4, 0.6],\n",
       " [0.77, 0.23],\n",
       " [0.21, 0.79],\n",
       " [0.89, 0.11],\n",
       " [0.89, 0.11],\n",
       " [0.4, 0.6],\n",
       " [0.77, 0.23],\n",
       " [0.4, 0.6],\n",
       " [0.21, 0.79],\n",
       " [0.1, 0.9],\n",
       " [0.89, 0.11],\n",
       " [0.58, 0.42],\n",
       " [0.89, 0.11],\n",
       " [0.89, 0.11],\n",
       " [0.21, 0.79],\n",
       " [0.4, 0.6],\n",
       " [0.77, 0.23],\n",
       " [0.89, 0.11],\n",
       " [0.58, 0.42],\n",
       " [0.89, 0.11],\n",
       " [0.21, 0.79],\n",
       " [0.89, 0.11],\n",
       " [0.1, 0.9],\n",
       " [0.89, 0.11],\n",
       " [0.77, 0.23],\n",
       " [0.58, 0.42],\n",
       " [0.4, 0.6],\n",
       " [0.1, 0.9],\n",
       " [0.89, 0.11],\n",
       " [0.77, 0.23],\n",
       " [0.77, 0.23],\n",
       " [0.58, 0.42],\n",
       " [0.58, 0.42],\n",
       " [0.89, 0.11],\n",
       " [0.4, 0.6],\n",
       " [0.89, 0.11],\n",
       " [0.89, 0.11],\n",
       " [0.89, 0.11],\n",
       " [0.89, 0.11],\n",
       " [0.89, 0.11],\n",
       " [0.77, 0.23],\n",
       " [0.1, 0.9],\n",
       " [0.4, 0.6],\n",
       " [0.21, 0.79],\n",
       " [0.1, 0.9],\n",
       " [0.21, 0.79],\n",
       " [0.89, 0.11],\n",
       " [0.89, 0.11],\n",
       " [0.89, 0.11],\n",
       " [0.1, 0.9],\n",
       " [0.4, 0.6],\n",
       " [0.4, 0.6],\n",
       " [0.89, 0.11],\n",
       " [0.77, 0.23],\n",
       " [0.77, 0.23],\n",
       " [0.89, 0.11],\n",
       " [0.58, 0.42],\n",
       " [0.4, 0.6],\n",
       " [0.4, 0.6],\n",
       " [0.89, 0.11],\n",
       " [0.89, 0.11],\n",
       " [0.77, 0.23],\n",
       " [0.4, 0.6],\n",
       " [0.89, 0.11],\n",
       " [0.1, 0.9],\n",
       " [0.89, 0.11],\n",
       " [0.77, 0.23],\n",
       " [0.1, 0.9],\n",
       " [0.77, 0.23],\n",
       " [0.77, 0.23],\n",
       " [0.58, 0.42],\n",
       " [0.89, 0.11],\n",
       " [0.4, 0.6],\n",
       " [0.4, 0.6],\n",
       " [0.89, 0.11],\n",
       " [0.4, 0.6],\n",
       " [0.89, 0.11],\n",
       " [0.89, 0.11],\n",
       " [0.77, 0.23],\n",
       " [0.89, 0.11],\n",
       " [0.1, 0.9],\n",
       " [0.89, 0.11],\n",
       " [0.77, 0.23],\n",
       " [0.21, 0.79],\n",
       " [0.58, 0.42],\n",
       " [0.58, 0.42],\n",
       " [0.58, 0.42],\n",
       " [0.58, 0.42],\n",
       " [0.89, 0.11],\n",
       " [0.4, 0.6],\n",
       " [0.58, 0.42],\n",
       " [0.89, 0.11],\n",
       " [0.77, 0.23],\n",
       " [0.89, 0.11],\n",
       " [0.89, 0.11],\n",
       " [0.89, 0.11],\n",
       " [0.4, 0.6],\n",
       " [0.1, 0.9],\n",
       " [0.1, 0.9],\n",
       " [0.58, 0.42],\n",
       " [0.89, 0.11],\n",
       " [0.4, 0.6],\n",
       " [0.89, 0.11],\n",
       " [0.58, 0.42],\n",
       " [0.89, 0.11],\n",
       " [0.77, 0.23],\n",
       " [0.21, 0.79],\n",
       " [0.4, 0.6],\n",
       " [0.58, 0.42],\n",
       " [0.89, 0.11],\n",
       " [0.89, 0.11],\n",
       " [0.89, 0.11],\n",
       " [0.89, 0.11],\n",
       " [0.77, 0.23],\n",
       " [0.89, 0.11],\n",
       " [0.58, 0.42],\n",
       " [0.21, 0.79],\n",
       " [0.1, 0.9],\n",
       " [0.89, 0.11],\n",
       " [0.1, 0.9],\n",
       " [0.4, 0.6],\n",
       " [0.77, 0.23],\n",
       " [0.58, 0.42],\n",
       " [0.89, 0.11],\n",
       " [0.89, 0.11],\n",
       " [0.58, 0.42],\n",
       " [0.1, 0.9],\n",
       " [0.58, 0.42],\n",
       " [0.4, 0.6],\n",
       " [0.4, 0.6],\n",
       " [0.77, 0.23],\n",
       " [0.89, 0.11],\n",
       " [0.89, 0.11],\n",
       " [0.89, 0.11],\n",
       " [0.4, 0.6],\n",
       " [0.89, 0.11],\n",
       " [0.58, 0.42],\n",
       " [0.58, 0.42],\n",
       " [0.89, 0.11],\n",
       " [0.4, 0.6],\n",
       " [0.89, 0.11],\n",
       " [0.89, 0.11],\n",
       " [0.77, 0.23],\n",
       " [0.89, 0.11],\n",
       " [0.77, 0.23],\n",
       " [0.89, 0.11],\n",
       " [0.4, 0.6],\n",
       " [0.4, 0.6],\n",
       " [0.4, 0.6],\n",
       " [0.89, 0.11],\n",
       " [0.21, 0.79],\n",
       " [0.89, 0.11],\n",
       " [0.89, 0.11],\n",
       " [0.21, 0.79],\n",
       " [0.4, 0.6],\n",
       " [0.4, 0.6],\n",
       " [0.89, 0.11],\n",
       " [0.4, 0.6],\n",
       " [0.4, 0.6],\n",
       " [0.4, 0.6],\n",
       " [0.89, 0.11],\n",
       " [0.77, 0.23],\n",
       " [0.58, 0.42],\n",
       " [0.89, 0.11],\n",
       " [0.1, 0.9],\n",
       " [0.89, 0.11],\n",
       " [0.89, 0.11],\n",
       " [0.77, 0.23],\n",
       " [0.77, 0.23],\n",
       " [0.77, 0.23],\n",
       " [0.89, 0.11],\n",
       " [0.89, 0.11],\n",
       " [0.1, 0.9],\n",
       " [0.89, 0.11],\n",
       " [0.58, 0.42],\n",
       " [0.89, 0.11],\n",
       " [0.58, 0.42],\n",
       " [0.4, 0.6],\n",
       " [0.58, 0.42],\n",
       " [0.1, 0.9],\n",
       " [0.58, 0.42],\n",
       " [0.4, 0.6],\n",
       " [0.4, 0.6],\n",
       " [0.4, 0.6],\n",
       " [0.58, 0.42],\n",
       " [0.89, 0.11],\n",
       " [0.58, 0.42],\n",
       " [0.1, 0.9],\n",
       " [0.4, 0.6],\n",
       " [0.1, 0.9],\n",
       " [0.1, 0.9],\n",
       " [0.58, 0.42],\n",
       " [0.89, 0.11],\n",
       " [0.58, 0.42],\n",
       " [0.58, 0.42],\n",
       " [0.58, 0.42],\n",
       " [0.4, 0.6],\n",
       " [0.21, 0.79],\n",
       " [0.89, 0.11],\n",
       " [0.89, 0.11],\n",
       " [0.1, 0.9],\n",
       " [0.1, 0.9],\n",
       " [0.89, 0.11],\n",
       " [0.21, 0.79],\n",
       " [0.58, 0.42],\n",
       " [0.4, 0.6],\n",
       " [0.89, 0.11],\n",
       " [0.4, 0.6],\n",
       " [0.77, 0.23],\n",
       " [0.89, 0.11],\n",
       " [0.89, 0.11],\n",
       " [0.89, 0.11],\n",
       " [0.21, 0.79],\n",
       " [0.1, 0.9],\n",
       " [0.89, 0.11],\n",
       " [0.89, 0.11],\n",
       " [0.89, 0.11],\n",
       " [0.4, 0.6],\n",
       " [0.58, 0.42],\n",
       " [0.89, 0.11],\n",
       " [0.89, 0.11],\n",
       " [0.21, 0.79],\n",
       " [0.89, 0.11],\n",
       " [0.1, 0.9],\n",
       " [0.89, 0.11],\n",
       " [0.58, 0.42],\n",
       " [0.4, 0.6],\n",
       " [0.21, 0.79],\n",
       " [0.89, 0.11],\n",
       " [0.4, 0.6],\n",
       " [0.89, 0.11],\n",
       " [0.4, 0.6],\n",
       " [0.21, 0.79],\n",
       " [0.21, 0.79],\n",
       " [0.58, 0.42],\n",
       " [0.1, 0.9],\n",
       " [0.77, 0.23],\n",
       " [0.89, 0.11],\n",
       " [0.89, 0.11],\n",
       " [0.58, 0.42],\n",
       " [0.89, 0.11],\n",
       " [0.1, 0.9],\n",
       " [0.77, 0.23],\n",
       " [0.89, 0.11],\n",
       " [0.89, 0.11],\n",
       " [0.77, 0.23],\n",
       " [0.89, 0.11],\n",
       " [0.89, 0.11],\n",
       " [0.58, 0.42],\n",
       " [0.89, 0.11],\n",
       " [0.58, 0.42],\n",
       " [0.58, 0.42],\n",
       " [0.89, 0.11],\n",
       " [0.21, 0.79],\n",
       " [0.4, 0.6],\n",
       " [0.89, 0.11],\n",
       " [0.21, 0.79],\n",
       " [0.58, 0.42],\n",
       " [0.77, 0.23],\n",
       " [0.89, 0.11],\n",
       " [0.89, 0.11],\n",
       " [0.89, 0.11],\n",
       " [0.4, 0.6],\n",
       " [0.77, 0.23],\n",
       " [0.77, 0.23],\n",
       " [0.89, 0.11],\n",
       " [0.77, 0.23],\n",
       " [0.89, 0.11],\n",
       " [0.77, 0.23],\n",
       " [0.89, 0.11],\n",
       " [0.77, 0.23],\n",
       " [0.89, 0.11],\n",
       " [0.89, 0.11],\n",
       " [0.89, 0.11],\n",
       " [0.1, 0.9],\n",
       " [0.77, 0.23],\n",
       " [0.89, 0.11],\n",
       " [0.89, 0.11],\n",
       " [0.21, 0.79],\n",
       " [0.4, 0.6],\n",
       " [0.89, 0.11],\n",
       " [0.77, 0.23],\n",
       " [0.89, 0.11],\n",
       " [0.89, 0.11],\n",
       " [0.77, 0.23],\n",
       " [0.1, 0.9],\n",
       " [0.4, 0.6],\n",
       " [0.4, 0.6],\n",
       " [0.58, 0.42],\n",
       " [0.89, 0.11],\n",
       " [0.1, 0.9],\n",
       " [0.58, 0.42]]"
      ]
     },
     "execution_count": 167,
     "metadata": {},
     "output_type": "execute_result"
    }
   ],
   "source": [
    "# Inspect the probabilities the model assigns\n",
    "[[round(l[0], 2), round(l[1], 2)] for l in m1.predict_proba(X_train)]\n",
    "#no clear boundary between the two states"
   ]
  },
  {
   "cell_type": "code",
   "execution_count": 168,
   "metadata": {},
   "outputs": [
    {
     "data": {
      "text/plain": [
       "-0.8789659410752028"
      ]
     },
     "execution_count": 168,
     "metadata": {},
     "output_type": "execute_result"
    }
   ],
   "source": [
    "# Inspect the coefficients and the intercept\n",
    "w1 = m1.coef_[0][0]\n",
    "w1"
   ]
  },
  {
   "cell_type": "code",
   "execution_count": 169,
   "metadata": {},
   "outputs": [
    {
     "data": {
      "text/plain": [
       "3.057030614471014"
      ]
     },
     "execution_count": 169,
     "metadata": {},
     "output_type": "execute_result"
    }
   ],
   "source": [
    "w0 = m1.intercept_[0]\n",
    "w0"
   ]
  },
  {
   "cell_type": "code",
   "execution_count": 170,
   "metadata": {},
   "outputs": [
    {
     "data": {
      "text/plain": [
       "array([0, 1])"
      ]
     },
     "execution_count": 170,
     "metadata": {},
     "output_type": "execute_result"
    }
   ],
   "source": [
    "m1.classes_"
   ]
  },
  {
   "cell_type": "code",
   "execution_count": 171,
   "metadata": {},
   "outputs": [
    {
     "data": {
      "text/plain": [
       "0.96"
      ]
     },
     "execution_count": 171,
     "metadata": {},
     "output_type": "execute_result"
    }
   ],
   "source": [
    "round(sigmoid_function(0), 2) # The probability of a female passenger belonging to the class survived"
   ]
  },
  {
   "cell_type": "code",
   "execution_count": 172,
   "metadata": {},
   "outputs": [
    {
     "data": {
      "text/plain": [
       "0.9"
      ]
     },
     "execution_count": 172,
     "metadata": {},
     "output_type": "execute_result"
    }
   ],
   "source": [
    "round(sigmoid_function(1), 2) # The probability of a male passenger belonging to the class survived"
   ]
  },
  {
   "cell_type": "code",
   "execution_count": 173,
   "metadata": {},
   "outputs": [
    {
     "data": {
      "text/html": [
       "<div>\n",
       "<style scoped>\n",
       "    .dataframe tbody tr th:only-of-type {\n",
       "        vertical-align: middle;\n",
       "    }\n",
       "\n",
       "    .dataframe tbody tr th {\n",
       "        vertical-align: top;\n",
       "    }\n",
       "\n",
       "    .dataframe thead th {\n",
       "        text-align: right;\n",
       "    }\n",
       "</style>\n",
       "<table border=\"1\" class=\"dataframe\">\n",
       "  <thead>\n",
       "    <tr style=\"text-align: right;\">\n",
       "      <th></th>\n",
       "      <th>PassengerId</th>\n",
       "      <th>Survived</th>\n",
       "      <th>Pclass</th>\n",
       "      <th>Name</th>\n",
       "      <th>Sex</th>\n",
       "      <th>Age</th>\n",
       "      <th>SibSp</th>\n",
       "      <th>Parch</th>\n",
       "      <th>Ticket</th>\n",
       "      <th>Fare</th>\n",
       "      <th>Cabin</th>\n",
       "      <th>Embarked</th>\n",
       "      <th>survivor</th>\n",
       "    </tr>\n",
       "  </thead>\n",
       "  <tbody>\n",
       "    <tr>\n",
       "      <th>0</th>\n",
       "      <td>1</td>\n",
       "      <td>0</td>\n",
       "      <td>3</td>\n",
       "      <td>Braund, Mr. Owen Harris</td>\n",
       "      <td>1</td>\n",
       "      <td>22.0</td>\n",
       "      <td>1</td>\n",
       "      <td>0</td>\n",
       "      <td>A/5 21171</td>\n",
       "      <td>7.2500</td>\n",
       "      <td>NaN</td>\n",
       "      <td>S</td>\n",
       "      <td>0.90</td>\n",
       "    </tr>\n",
       "    <tr>\n",
       "      <th>1</th>\n",
       "      <td>2</td>\n",
       "      <td>1</td>\n",
       "      <td>1</td>\n",
       "      <td>Cumings, Mrs. John Bradley (Florence Briggs Th...</td>\n",
       "      <td>0</td>\n",
       "      <td>38.0</td>\n",
       "      <td>1</td>\n",
       "      <td>0</td>\n",
       "      <td>PC 17599</td>\n",
       "      <td>71.2833</td>\n",
       "      <td>C85</td>\n",
       "      <td>C</td>\n",
       "      <td>0.96</td>\n",
       "    </tr>\n",
       "    <tr>\n",
       "      <th>2</th>\n",
       "      <td>3</td>\n",
       "      <td>1</td>\n",
       "      <td>3</td>\n",
       "      <td>Heikkinen, Miss. Laina</td>\n",
       "      <td>0</td>\n",
       "      <td>26.0</td>\n",
       "      <td>0</td>\n",
       "      <td>0</td>\n",
       "      <td>STON/O2. 3101282</td>\n",
       "      <td>7.9250</td>\n",
       "      <td>NaN</td>\n",
       "      <td>S</td>\n",
       "      <td>0.96</td>\n",
       "    </tr>\n",
       "    <tr>\n",
       "      <th>3</th>\n",
       "      <td>4</td>\n",
       "      <td>1</td>\n",
       "      <td>1</td>\n",
       "      <td>Futrelle, Mrs. Jacques Heath (Lily May Peel)</td>\n",
       "      <td>0</td>\n",
       "      <td>35.0</td>\n",
       "      <td>1</td>\n",
       "      <td>0</td>\n",
       "      <td>113803</td>\n",
       "      <td>53.1000</td>\n",
       "      <td>C123</td>\n",
       "      <td>S</td>\n",
       "      <td>0.96</td>\n",
       "    </tr>\n",
       "    <tr>\n",
       "      <th>4</th>\n",
       "      <td>5</td>\n",
       "      <td>0</td>\n",
       "      <td>3</td>\n",
       "      <td>Allen, Mr. William Henry</td>\n",
       "      <td>1</td>\n",
       "      <td>35.0</td>\n",
       "      <td>0</td>\n",
       "      <td>0</td>\n",
       "      <td>373450</td>\n",
       "      <td>8.0500</td>\n",
       "      <td>NaN</td>\n",
       "      <td>S</td>\n",
       "      <td>0.90</td>\n",
       "    </tr>\n",
       "  </tbody>\n",
       "</table>\n",
       "</div>"
      ],
      "text/plain": [
       "   PassengerId  Survived  Pclass  \\\n",
       "0            1         0       3   \n",
       "1            2         1       1   \n",
       "2            3         1       3   \n",
       "3            4         1       1   \n",
       "4            5         0       3   \n",
       "\n",
       "                                                Name  Sex   Age  SibSp  Parch  \\\n",
       "0                            Braund, Mr. Owen Harris    1  22.0      1      0   \n",
       "1  Cumings, Mrs. John Bradley (Florence Briggs Th...    0  38.0      1      0   \n",
       "2                             Heikkinen, Miss. Laina    0  26.0      0      0   \n",
       "3       Futrelle, Mrs. Jacques Heath (Lily May Peel)    0  35.0      1      0   \n",
       "4                           Allen, Mr. William Henry    1  35.0      0      0   \n",
       "\n",
       "             Ticket     Fare Cabin Embarked  survivor  \n",
       "0         A/5 21171   7.2500   NaN        S      0.90  \n",
       "1          PC 17599  71.2833   C85        C      0.96  \n",
       "2  STON/O2. 3101282   7.9250   NaN        S      0.96  \n",
       "3            113803  53.1000  C123        S      0.96  \n",
       "4            373450   8.0500   NaN        S      0.90  "
      ]
     },
     "execution_count": 173,
     "metadata": {},
     "output_type": "execute_result"
    }
   ],
   "source": [
    "# Create a new column that displays the probability of belonging to class survivor\n",
    "df['survivor'] = round(df['Sex'].apply(sigmoid_function), 2)\n",
    "df.head()"
   ]
  },
  {
   "cell_type": "markdown",
   "metadata": {},
   "source": [
    "m (Pclass) and m1 (Pclass, Sex) Classification models\n",
    "Classifier 1:\n",
    "\n",
    "Accuracy: 0,67\n",
    "\n",
    "Precision: \n",
    "\n",
    "Recall: \n",
    "\n",
    "F1-Score: \n",
    "\n",
    "Classifier 2:\n",
    "\n",
    "Accuracy: 0,79\n",
    "\n",
    "Precision: \n",
    "\n",
    "Recall: \n",
    "\n",
    "F1-Score: "
   ]
  },
  {
   "cell_type": "code",
   "execution_count": null,
   "metadata": {},
   "outputs": [],
   "source": []
  }
 ],
 "metadata": {
  "kernelspec": {
   "display_name": "Python 3",
   "language": "python",
   "name": "python3"
  },
  "language_info": {
   "codemirror_mode": {
    "name": "ipython",
    "version": 3
   },
   "file_extension": ".py",
   "mimetype": "text/x-python",
   "name": "python",
   "nbconvert_exporter": "python",
   "pygments_lexer": "ipython3",
   "version": "3.7.9"
  }
 },
 "nbformat": 4,
 "nbformat_minor": 4
}
